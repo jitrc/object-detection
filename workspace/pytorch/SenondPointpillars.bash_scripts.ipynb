{
 "cells": [
  {
   "cell_type": "code",
   "execution_count": null,
   "metadata": {},
   "outputs": [],
   "source": [
    "%env KITTI_ROOT=/data/kitti_lidar\n",
    "!export KITTI_ROOT=/data/kitti_lidar"
   ]
  },
  {
   "cell_type": "code",
   "execution_count": null,
   "metadata": {},
   "outputs": [],
   "source": [
    "%env NUMBA_WARNINGS=0"
   ]
  },
  {
   "cell_type": "markdown",
   "metadata": {},
   "source": [
    "### To use different copy of `second.pytorch`"
   ]
  },
  {
   "cell_type": "code",
   "execution_count": null,
   "metadata": {},
   "outputs": [],
   "source": [
    "# %%bash\n",
    "# cd /home/pytorch/external/ && git clone https://github.com/jitrc/second.pytorch -b quick_fix\n",
    "# export SECOND_API=/home/pytorch/external/second.pytorch/second\n",
    "# export PYTHONPATH=/home/pytorch/external/second.pytorch:${PYTHONPATH}"
   ]
  },
  {
   "cell_type": "code",
   "execution_count": null,
   "metadata": {},
   "outputs": [],
   "source": [
    "# %env SECOND_API=/home/pytorch/external/second.pytorch/second\n",
    "# %env PYTHONPATH=/home/pytorch/external/second.pytorch:${PYTHONPATH}"
   ]
  },
  {
   "cell_type": "code",
   "execution_count": null,
   "metadata": {},
   "outputs": [],
   "source": [
    "!ls ${SECOND_API}"
   ]
  },
  {
   "cell_type": "code",
   "execution_count": null,
   "metadata": {},
   "outputs": [],
   "source": [
    "!ls ${KITTI_ROOT}"
   ]
  },
  {
   "cell_type": "code",
   "execution_count": null,
   "metadata": {},
   "outputs": [],
   "source": [
    "!tree --filelimit 10 ${KITTI_ROOT}"
   ]
  },
  {
   "cell_type": "markdown",
   "metadata": {},
   "source": [
    "# Prepare dataset"
   ]
  },
  {
   "cell_type": "code",
   "execution_count": null,
   "metadata": {},
   "outputs": [],
   "source": [
    "!mkdir -p ${KITTI_ROOT}/training/velodyne_reduced/\n",
    "!mkdir -p ${KITTI_ROOT}/testing/velodyne_reduced/"
   ]
  },
  {
   "cell_type": "code",
   "execution_count": null,
   "metadata": {},
   "outputs": [],
   "source": [
    "!python ${SECOND_API}/create_data.py kitti_data_prep ${KITTI_ROOT}"
   ]
  },
  {
   "cell_type": "code",
   "execution_count": null,
   "metadata": {},
   "outputs": [],
   "source": [
    "!ls -l --block-size=M /data/kitti_lidar/*.pkl"
   ]
  },
  {
   "cell_type": "markdown",
   "metadata": {},
   "source": [
    "# Configure"
   ]
  },
  {
   "cell_type": "code",
   "execution_count": null,
   "metadata": {},
   "outputs": [],
   "source": [
    "!ls -R ${SECOND_API}/configs"
   ]
  },
  {
   "cell_type": "code",
   "execution_count": null,
   "metadata": {},
   "outputs": [],
   "source": [
    "%env KITTI_ROOT=/data/kitti_lidar\n",
    "%env MODEL_OUT_PATH=/data/kitti_lidar/trained_model\n",
    "%env MODEL_NAME=car.lite\n",
    "%env MODEL_NAME_FLAT=car_lite"
   ]
  },
  {
   "cell_type": "code",
   "execution_count": null,
   "metadata": {},
   "outputs": [],
   "source": [
    "%%bash\n",
    "# Use this block to copy/paste in terminal \n",
    "\n",
    "# export KITTI_ROOT='/data/kitti_lidar'\n",
    "# export MODEL_OUT_PATH=\"${KITTI_ROOT}/trained_model\"\n",
    "# export MODEL_NAME='car.fhd' # 'all.fhd', 'car.fhd', `pointpillars/cars/xyres_16` ...\n",
    "# export MODEL_NAME_FLAT=$(echo ${MODEL_NAME//\\//_}| tr \".\" _)"
   ]
  },
  {
   "cell_type": "code",
   "execution_count": null,
   "metadata": {},
   "outputs": [],
   "source": [
    "!echo $MODEL_NAME_FLAT"
   ]
  },
  {
   "cell_type": "markdown",
   "metadata": {},
   "source": [
    "## Update config file"
   ]
  },
  {
   "cell_type": "code",
   "execution_count": null,
   "metadata": {
    "scrolled": true
   },
   "outputs": [],
   "source": [
    "%%bash\n",
    "mkdir -p ${MODEL_OUT_PATH}\n",
    "cp ${SECOND_API}/configs/${MODEL_NAME}.config ${MODEL_OUT_PATH}/train.config\n",
    "\n",
    "sed -i \"s|kitti_root_path:.*|kitti_root_path: \\\"${KITTI_ROOT}\\\"|g\" ${MODEL_OUT_PATH}/train.config\n",
    "sed -i \"s|kitti_info_path:.*/kitti_infos_train.pkl\\\"|kitti_info_path: \\\"${KITTI_ROOT}/kitti_infos_train.pkl\\\"|g\" ${MODEL_OUT_PATH}/train.config\n",
    "sed -i \"s|kitti_info_path:.*/kitti_infos_val.pkl\\\"|kitti_info_path: \\\"${KITTI_ROOT}/kitti_infos_val.pkl\\\"|g\" ${MODEL_OUT_PATH}/train.config\n",
    "sed -i \"s|kitti_info_path:.*/kitti_infos_test.pkl\\\"|kitti_info_path: \\\"${KITTI_ROOT}/kitti_infos_test.pkl\\\"|g\" ${MODEL_OUT_PATH}/train.config\n",
    "sed -i \"s|database_info_path:.*|database_info_path: \\\"${KITTI_ROOT}/kitti_dbinfos_train.pkl\\\"|g\" ${MODEL_OUT_PATH}/train.config\n",
    "\n",
    "# sed -i \"s|batch_size:.*|batch_size: 6|g\" ${MODEL_OUT_PATH}/train.config\n",
    "# sed -i \"s|num_workers:.*|num_workers: 4|g\" ${MODEL_OUT_PATH}/train.config\n",
    "\n",
    "cat ${MODEL_OUT_PATH}/train.config"
   ]
  },
  {
   "cell_type": "markdown",
   "metadata": {},
   "source": [
    "# Evalute Pretrained"
   ]
  },
  {
   "cell_type": "code",
   "execution_count": null,
   "metadata": {},
   "outputs": [],
   "source": [
    "!ls /data/pretrained_models/Pointpillars_models_v1.5"
   ]
  },
  {
   "cell_type": "code",
   "execution_count": null,
   "metadata": {},
   "outputs": [],
   "source": [
    "!python ${SECOND_API}/pytorch/train.py evaluate --config_path=${MODEL_OUT_PATH}/train.config --model_dir=/data/pretrained_models/Pointpillars_models_v1.5/${MODEL_NAME_FLAT}"
   ]
  },
  {
   "cell_type": "markdown",
   "metadata": {},
   "source": [
    "# Training"
   ]
  },
  {
   "cell_type": "markdown",
   "metadata": {},
   "source": [
    "## Tensorboard"
   ]
  },
  {
   "cell_type": "code",
   "execution_count": null,
   "metadata": {},
   "outputs": [],
   "source": [
    "%load_ext tensorboard.notebook\n",
    "%tensorboard --logdir /data/kitti_lidar/trained_model"
   ]
  },
  {
   "cell_type": "markdown",
   "metadata": {},
   "source": [
    "##  Prepate output directory"
   ]
  },
  {
   "cell_type": "code",
   "execution_count": null,
   "metadata": {},
   "outputs": [],
   "source": [
    "!echo ${MODEL_OUT_PATH}/${MODEL_NAME_FLAT}\n",
    "!rm -rf ${MODEL_OUT_PATH}/${MODEL_NAME_FLAT}"
   ]
  },
  {
   "cell_type": "markdown",
   "metadata": {},
   "source": [
    "## Train with single GPU"
   ]
  },
  {
   "cell_type": "code",
   "execution_count": null,
   "metadata": {
    "scrolled": true
   },
   "outputs": [],
   "source": [
    "!python ${SECOND_API}/pytorch/train.py train --config_path=${MODEL_OUT_PATH}/train.config --model_dir=${MODEL_OUT_PATH}/${MODEL_NAME_FLAT}"
   ]
  },
  {
   "cell_type": "markdown",
   "metadata": {},
   "source": [
    "## Train with Multi GPU\n",
    "not tested"
   ]
  },
  {
   "cell_type": "code",
   "execution_count": null,
   "metadata": {
    "scrolled": true
   },
   "outputs": [],
   "source": [
    "# !CUDA_VISIBLE_DEVICES=0,1 python ${SECOND_API}/pytorch/train.py train --config_path=${MODEL_OUT_PATH}/train.config --model_dir=${MODEL_OUT_PATH}/${MODEL_NAME_FLAT} --multi_gpu=True"
   ]
  },
  {
   "cell_type": "markdown",
   "metadata": {},
   "source": [
    "# Evaluate"
   ]
  },
  {
   "cell_type": "code",
   "execution_count": null,
   "metadata": {},
   "outputs": [],
   "source": [
    "!python ${SECOND_API}/pytorch/train.py evaluate --config_path=${MODEL_OUT_PATH}/train.config --model_dir=${MODEL_OUT_PATH}/${MODEL_NAME_FLAT}"
   ]
  }
 ],
 "metadata": {
  "kernelspec": {
   "display_name": "Python 3",
   "language": "python",
   "name": "python3"
  },
  "language_info": {
   "codemirror_mode": {
    "name": "ipython",
    "version": 3
   },
   "file_extension": ".py",
   "mimetype": "text/x-python",
   "name": "python",
   "nbconvert_exporter": "python",
   "pygments_lexer": "ipython3",
   "version": "3.6.9"
  }
 },
 "nbformat": 4,
 "nbformat_minor": 4
}
