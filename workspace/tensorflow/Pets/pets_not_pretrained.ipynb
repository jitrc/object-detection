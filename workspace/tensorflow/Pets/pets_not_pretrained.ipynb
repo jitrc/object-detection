{
 "cells": [
  {
   "cell_type": "code",
   "execution_count": null,
   "metadata": {},
   "outputs": [],
   "source": [
    "!ls ${TF_OBJECT_DETECTION_API}/samples/configs/*pets.config"
   ]
  },
  {
   "cell_type": "markdown",
   "metadata": {},
   "source": [
    "# Not Pretrained"
   ]
  },
  {
   "cell_type": "code",
   "execution_count": null,
   "metadata": {},
   "outputs": [],
   "source": [
    "%%bash\n",
    "#export MODEL_NAME='ssd_mobilenet_v1'\n",
    "#export MODEL_NAME='faster_rcnn_resnet152'\n",
    "#export MODEL_NAME='faster_rcnn_resnet50'\n",
    "export MODEL_NAME='faster_rcnn_inception_resnet_v2_atrous'\n",
    "\n",
    "export SRC_PIPELINE=${TF_OBJECT_DETECTION_API}/samples/configs/${MODEL_NAME}_pets.config\n",
    "\n",
    "export NUM_CLASS=37\n",
    "\n",
    "export TFRECORD_PATH='/data/pets/pet_faces_tfrecord' # http://download.tensorflow.org/models/object_detection/pet_faces_tfrecord.tar.gz\n",
    "export MODEL_OUT_PATH=\"/data/pets/trained_model\"\n",
    "mkdir -p ${MODEL_OUT_PATH}\n",
    "\n",
    "cp ${SRC_PIPELINE} ${MODEL_OUT_PATH}/pipeline.config\n",
    "\n",
    "sed -i \"s|fine_tune_checkpoint|#fine_tune_checkpoint|g\" ${MODEL_OUT_PATH}/pipeline.config\n",
    "sed -i \"s|PATH_TO_BE_CONFIGURED/[a-z_]*_label_map.pbtxt|${TF_OBJECT_DETECTION_API}/data/pet_label_map.pbtxt|g\" ${MODEL_OUT_PATH}/pipeline.config\n",
    "sed -i \"s|PATH_TO_BE_CONFIGURED/[a-z_]*_train|${TFRECORD_PATH}/pet_faces_train|g\" ${MODEL_OUT_PATH}/pipeline.config\n",
    "sed -i \"s|PATH_TO_BE_CONFIGURED/[a-z_]*_val|${TFRECORD_PATH}/pet_faces_val|g\" ${MODEL_OUT_PATH}/pipeline.config\n",
    "sed -i \"s|num_classes: [[:digit:]]\\+|num_classes: ${NUM_CLASS}|g\" ${MODEL_OUT_PATH}/pipeline.config\n",
    "\n",
    "sed -i \"s|.record\\\"|.record-?????-of-00010\\\"|g\" ${MODEL_OUT_PATH}/pipeline.config \n",
    "sed -i \"s|step: 0|step: 1|g\" ${MODEL_OUT_PATH}/pipeline.config # Bug fix \n",
    "\n",
    "# Check the final config manually\n",
    "#cat ${MODEL_OUT_PATH}/pipeline.config\n"
   ]
  },
  {
   "cell_type": "code",
   "execution_count": null,
   "metadata": {},
   "outputs": [],
   "source": [
    "cat /data/pets/trained_model/pipeline.config"
   ]
  },
  {
   "cell_type": "markdown",
   "metadata": {},
   "source": [
    "# With Pretrained"
   ]
  },
  {
   "cell_type": "code",
   "execution_count": null,
   "metadata": {},
   "outputs": [],
   "source": [
    "%%bash\n",
    "# find preatrained models from https://github.com/tensorflow/models/blob/master/research/object_detection/g3doc/detection_model_zoo.md \n",
    "#export MODEL_NAME='ssd_mobilenet_v1_coco_2018_01_28' \n",
    "export MODEL_NAME='ssd_inception_v2_coco_2018_01_28'\n",
    "\n",
    "export PRETRAINED_MODEL_PATH=\"/data/pretrained_models/${MODEL_NAME}\"\n",
    "export SRC_PIPELINE=${PRETRAINED_MODEL_PATH}/pipeline.config\n",
    "#export SRC_PIPELINE=${TF_OBJECT_DETECTION_API}/samples/configs/ssd_inception_v2_pets.config\n",
    "\n",
    "mkdir -p /data/pretrained_models\n",
    "cd /data/pretrained_models\n",
    "\n",
    "if [[ -d /data/pretrained_models/${MODEL_NAME} ]]\n",
    "then \n",
    "  echo \"Model ${MODEL_NAME} already exists\" \n",
    "else\n",
    "  echo \"Downloading model ${MODEL_NAME}\" \n",
    "  wget -c --show-progress --progress=bar http://download.tensorflow.org/models/object_detection/${MODEL_NAME}.tar.gz \n",
    "  tar xvzf ${MODEL_NAME}.tar.gz\n",
    "fi\n",
    "\n",
    "echo \"Model path: /data/pretrained_models/${MODEL_NAME}\"\n",
    "\n",
    " \n",
    "export NUM_CLASS=37\n",
    "\n",
    "export TFRECORD_PATH='/data/pets/tfrecord' # http://download.tensorflow.org/models/object_detection/pet_faces_tfrecord.tar.gz\n",
    "export MODEL_OUT_PATH=\"/data/pets/trained_model\"\n",
    "mkdir -p ${MODEL_OUT_PATH}\n",
    "\n",
    "cp ${SRC_PIPELINE} ${MODEL_OUT_PATH}/pipeline.config\n",
    "\n",
    "sed -i \"s|PATH_TO_BE_CONFIGURED/model.ckpt|${PRETRAINED_MODEL_PATH}/model.ckpt|g\" ${MODEL_OUT_PATH}/pipeline.config\n",
    "sed -i \"s|PATH_TO_BE_CONFIGURED/[a-z_]*_label_map.pbtxt|${TF_OBJECT_DETECTION_API}/data/pet_label_map.pbtxt|g\" ${MODEL_OUT_PATH}/pipeline.config\n",
    "sed -i \"s|PATH_TO_BE_CONFIGURED/[a-z_]*_train|${TFRECORD_PATH}/pet_faces_train|g\" ${MODEL_OUT_PATH}/pipeline.config\n",
    "sed -i \"s|PATH_TO_BE_CONFIGURED/[a-z_]*_val|${TFRECORD_PATH}/pet_faces_val|g\" ${MODEL_OUT_PATH}/pipeline.config\n",
    "sed -i \"s|num_classes: [[:digit:]]\\+|num_classes: ${NUM_CLASS}|g\" ${MODEL_OUT_PATH}/pipeline.config\n",
    "\n",
    "sed -i \"s|.record\\\"|.record-?????-of-00010\\\"|g\" ${MODEL_OUT_PATH}/pipeline.config \n",
    "sed -i \"s|step: 0|step: 1|g\" ${MODEL_OUT_PATH}/pipeline.config # Bug fix \n",
    "\n",
    "# Check the final config manually\n",
    "#cat ${MODEL_OUT_PATH}/pipeline.config"
   ]
  },
  {
   "cell_type": "code",
   "execution_count": null,
   "metadata": {},
   "outputs": [],
   "source": [
    "%env MODEL_NAME=ssd_mobilenet_v1_coco\n",
    "\n",
    "#export MODEL_NAME='ssd_mobilenet_v1_coco'\n",
    "#export MODEL_NAME='faster_rcnn_resnet101_coco'\n",
    "#export MODEL_NAME='ssd_inception_v2_coco'\n",
    "\n",
    "!python ${TF_OBJECT_DETECTION_API}/model_main.py \\\n",
    "    --model_dir=/data/pets/trained_model/${MODEL_NAME} \\\n",
    "    --pipeline_config_path=/data/pets/trained_model/pipeline.config \\\n",
    "    --alsologtostderr \\\n",
    "    --num_train_step=50000\n",
    "    "
   ]
  }
 ],
 "metadata": {
  "kernelspec": {
   "display_name": "Python 3",
   "language": "python",
   "name": "python3"
  },
  "language_info": {
   "codemirror_mode": {
    "name": "ipython",
    "version": 3
   },
   "file_extension": ".py",
   "mimetype": "text/x-python",
   "name": "python",
   "nbconvert_exporter": "python",
   "pygments_lexer": "ipython3",
   "version": "3.6.9"
  }
 },
 "nbformat": 4,
 "nbformat_minor": 4
}
