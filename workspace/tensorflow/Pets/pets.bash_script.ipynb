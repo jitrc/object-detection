{
 "cells": [
  {
   "cell_type": "markdown",
   "metadata": {},
   "source": [
    "<h3><span style=\"color:red\"> Note: <b>%%bash</b> blocks does not show intermediate outputs, you may want to copy and run these in terminal </span></h3>"
   ]
  },
  {
   "cell_type": "markdown",
   "metadata": {},
   "source": [
    "# Prepare Data"
   ]
  },
  {
   "cell_type": "markdown",
   "metadata": {},
   "source": [
    "## Download\n",
    "\n",
    "Oxford-IIT Pets Dataset https://www.robots.ox.ac.uk/~vgg/data/pets/"
   ]
  },
  {
   "cell_type": "code",
   "execution_count": null,
   "metadata": {},
   "outputs": [],
   "source": [
    "%%bash\n",
    "mkdir -p /data/pets\n",
    "cd /data/pets\n",
    "\n",
    "export IMAGE_URL='https://www.robots.ox.ac.uk/~vgg/data/pets/data/images.tar.gz'  \n",
    "export LABEL_URL='https://www.robots.ox.ac.uk/~vgg/data/pets/data/annotations.tar.gz'\n",
    "if [[ -d images ]] && [[ $(ls images/*.jpg | wc -l) -ge 7390 ]];then  \n",
    "  echo \"No need to Download\"\n",
    "  echo \"Images already there in ${PWD}/training/image_2/\"\n",
    "else\n",
    "  echo \"Starting Download\" \n",
    "  wget -c --show-progress --progress=bar ${IMAGE_URL}\n",
    "  wget -c --show-progress --progress=bar ${LABEL_URL}\n",
    "  echo \"Extracting\" \n",
    "  tar -xf images.tar.gz\n",
    "  tar -xf annotations.tar.gz\n",
    "fi\n"
   ]
  },
  {
   "cell_type": "markdown",
   "metadata": {},
   "source": [
    "## Validate"
   ]
  },
  {
   "cell_type": "code",
   "execution_count": null,
   "metadata": {},
   "outputs": [],
   "source": [
    "%%bash\n",
    "\n",
    "cd /data/pets/\n",
    "\n",
    "echo -n \"Images: \" ; ls images/*.jpg | wc -l # Should be # 7390\n",
    "\n",
    "echo \"Structure\"\n",
    "tree --filelimit 6"
   ]
  },
  {
   "cell_type": "markdown",
   "metadata": {},
   "source": [
    "## Generate TF Record"
   ]
  },
  {
   "cell_type": "code",
   "execution_count": null,
   "metadata": {},
   "outputs": [],
   "source": [
    "%%bash\n",
    "# !ls ${TF_OBJECT_DETECTION_API}/data\n",
    "export TFRECORD_PATH='/data/pets/tfrecord'\n",
    "#export TFRECORD_PATH='/data/pets/tfrecord_mask'\n",
    "\n",
    "if [ ! -d ${TFRECORD_PATH} ] \n",
    "then\n",
    "    mkdir -p ${TFRECORD_PATH}\n",
    "    python ${TF_OBJECT_DETECTION_API}/dataset_tools/create_pet_tf_record.py \\\n",
    "        --label_map_path=${TF_OBJECT_DETECTION_API}/data/pet_label_map.pbtxt \\\n",
    "        --data_dir=/data/pets \\\n",
    "        --output_dir=${TFRECORD_PATH} \\\n",
    "        --faces_only=true\n",
    "fi\n",
    "\n",
    "echo -n \"TF Records: \" ; ls ${TFRECORD_PATH} | wc -l "
   ]
  },
  {
   "cell_type": "markdown",
   "metadata": {},
   "source": [
    "# Prepare Model\n",
    "## Downloading a COCO-pretrained Model for Transfer Learning"
   ]
  },
  {
   "cell_type": "code",
   "execution_count": null,
   "metadata": {},
   "outputs": [],
   "source": [
    "%%bash\n",
    "\n",
    "#export MODEL_NAME='ssd_mobilenet_v1_coco_2018_01_28'\n",
    "export MODEL_NAME='faster_rcnn_resnet101_coco_2018_01_28'\n",
    "\n",
    "mkdir -p /data/pretrained_models\n",
    "cd /data/pretrained_models\n",
    "\n",
    "if [[ -d /data/pretrained_models/${MODEL_NAME} ]]\n",
    "then \n",
    "  echo \"Model ${MODEL_NAME} already exists\" \n",
    "else\n",
    "  echo \"Downloading model ${MODEL_NAME}\" \n",
    "  wget -c --show-progress --progress=bar http://download.tensorflow.org/models/object_detection/${MODEL_NAME}.tar.gz \n",
    "  tar xvzf ${MODEL_NAME}.tar.gz\n",
    "fi\n",
    "\n",
    "echo \"Model path: /data/pretrained_models/${MODEL_NAME}\""
   ]
  },
  {
   "cell_type": "markdown",
   "metadata": {},
   "source": [
    "# Training\n",
    "## Configure pipeline\n",
    "Set the paths `PATH_TO_BE_CONFIGURED` to correct values"
   ]
  },
  {
   "cell_type": "code",
   "execution_count": null,
   "metadata": {},
   "outputs": [],
   "source": [
    "!ls ${TF_OBJECT_DETECTION_API}/samples/configs/*pets.config"
   ]
  },
  {
   "cell_type": "code",
   "execution_count": null,
   "metadata": {
    "scrolled": true
   },
   "outputs": [],
   "source": [
    "%%bash\n",
    "export MODEL_NAME='ssd_mobilenet_v1_coco_2018_01_28'\n",
    "#export MODEL_NAME='faster_rcnn_resnet101_coco_2018_01_28'\n",
    "export NUM_CLASS=37\n",
    "export PRETRAINED_MODEL_PATH=\"/data/pretrained_models/${MODEL_NAME}\"\n",
    "export TFRECORD_PATH='/data/pets/tfrecord' # http://download.tensorflow.org/models/object_detection/pet_faces_tfrecord.tar.gz\n",
    "export MODEL_OUT_PATH=\"/data/pets/trained_model\"\n",
    "mkdir -p ${MODEL_OUT_PATH}\n",
    "\n",
    "#cp ${TF_OBJECT_DETECTION_API}/samples/configs/faster_rcnn_resnet101_pets.config ${MODEL_OUT_PATH}/{MODEL_NAME}_pipeline.config\n",
    "cp ${PRETRAINED_MODEL_PATH}/pipeline.config ${MODEL_OUT_PATH}/pipeline.config\n",
    "\n",
    "sed -i \"s|PATH_TO_BE_CONFIGURED/model.ckpt|${PRETRAINED_MODEL_PATH}/model.ckpt|g\" ${MODEL_OUT_PATH}/pipeline.config\n",
    "sed -i \"s|PATH_TO_BE_CONFIGURED/[a-z]*_label_map.pbtxt|${TF_OBJECT_DETECTION_API}/data/pet_label_map.pbtxt|g\" ${MODEL_OUT_PATH}/pipeline.config\n",
    "sed -i \"s|PATH_TO_BE_CONFIGURED/[a-z]*_train|${TFRECORD_PATH}/pet_faces_train|g\" ${MODEL_OUT_PATH}/pipeline.config\n",
    "sed -i \"s|PATH_TO_BE_CONFIGURED/[a-z]*_val|${TFRECORD_PATH}/pet_faces_val|g\" ${MODEL_OUT_PATH}/pipeline.config\n",
    "sed -i \"s|num_classes: [[:digit:]]\\+|num_classes: ${NUM_CLASS}|g\" ${MODEL_OUT_PATH}/pipeline.config\n",
    "\n",
    "sed -i \"s|.record\\\"|.record-?????-of-00010\\\"|g\" ${MODEL_OUT_PATH}/pipeline.config \n",
    "sed -i \"s|step: 0|step: 1|g\" ${MODEL_OUT_PATH}/pipeline.config # Bug fix \n",
    "\n",
    "# Check the final config manually\n",
    "cat ${MODEL_OUT_PATH}/pipeline.config"
   ]
  },
  {
   "cell_type": "markdown",
   "metadata": {},
   "source": [
    "## Setup Tensorboard"
   ]
  },
  {
   "cell_type": "code",
   "execution_count": null,
   "metadata": {},
   "outputs": [],
   "source": [
    "%load_ext tensorboard.notebook\n",
    "%tensorboard --logdir /data/pets/trained_model/\n",
    "\n",
    "#from tensorboard import notebook\n",
    "#notebook.display(height = 1000)"
   ]
  },
  {
   "cell_type": "markdown",
   "metadata": {},
   "source": [
    "## Evalute pretrained model"
   ]
  },
  {
   "cell_type": "code",
   "execution_count": null,
   "metadata": {},
   "outputs": [],
   "source": [
    "%env MODEL_NAME=ssd_mobilenet_v1_coco_2018_01_28\n",
    "#export MODEL_NAME='ssd_mobilenet_v1_coco_2018_01_28'\n",
    "!python ${TF_OBJECT_DETECTION_API}/model_main.py \\\n",
    "  --pipeline_config_path=/data/pets/trained_model/pipeline.config \\\n",
    "  --checkpoint_dir=/data/pretrained_models/${MODEL_NAME} \\\n",
    "  --model_dir=/data/pets/trained_model/${MODEL_NAME} # \\\n",
    "  # --run_once=True \n"
   ]
  },
  {
   "cell_type": "markdown",
   "metadata": {},
   "source": [
    "## Train (fine tune)"
   ]
  },
  {
   "cell_type": "code",
   "execution_count": null,
   "metadata": {
    "scrolled": true
   },
   "outputs": [],
   "source": [
    "%env MODEL_NAME=ssd_mobilenet_v1_coco_2018_01_28\n",
    "#export MODEL_NAME='ssd_mobilenet_v1_coco_2018_01_28'\n",
    "!python ${TF_OBJECT_DETECTION_API}/model_main.py \\\n",
    "    --alsologtostderr \\\n",
    "    --pipeline_config_path=/data/pets/trained_model/pipeline.config \\\n",
    "    --model_dir=/data/pets/trained_model/${MODEL_NAME} \\\n",
    "    --num_train_step=50000\n",
    "    "
   ]
  },
  {
   "cell_type": "markdown",
   "metadata": {},
   "source": [
    "# Legacy\n",
    "## Eval"
   ]
  },
  {
   "cell_type": "code",
   "execution_count": null,
   "metadata": {},
   "outputs": [],
   "source": [
    "%env MODEL_NAME=ssd_mobilenet_v1_coco_2018_01_28\n",
    "#export MODEL_NAME='ssd_mobilenet_v1_coco_2018_01_28'\n",
    "!python ${TF_OBJECT_DETECTION_API}/legacy/eval.py \\\n",
    "    --pipeline_config_path=/data/pets/trained_model/pipeline.config \\\n",
    "    --eval_dir=/data/pets/trained_model/${MODEL_NAME} \\\n",
    "    --checkpoint_dir=/data/pretrained_models/${MODEL_NAME}"
   ]
  },
  {
   "cell_type": "markdown",
   "metadata": {},
   "source": [
    "## Train"
   ]
  },
  {
   "cell_type": "code",
   "execution_count": null,
   "metadata": {},
   "outputs": [],
   "source": [
    "%env MODEL_NAME=ssd_mobilenet_v1_coco_2018_01_28\n",
    "#export MODEL_NAME='ssd_mobilenet_v1_coco_2018_01_28'\n",
    "!python ${TF_OBJECT_DETECTION_API}/legacy/train.py \\\n",
    "    --pipeline_config_path=/data/pets/trained_model/pipeline.config \\\n",
    "    --train_dir=/data/pets/trained_model  \\\n",
    "    --checkpoint_dir=/data/pretrained_models/${MODEL_NAME}"
   ]
  },
  {
   "cell_type": "markdown",
   "metadata": {},
   "source": [
    "## Train using multiple GPU"
   ]
  },
  {
   "cell_type": "code",
   "execution_count": null,
   "metadata": {},
   "outputs": [],
   "source": [
    "%env MODEL_NAME=ssd_mobilenet_v1_coco_2018_01_28\n",
    "#export MODEL_NAME='ssd_mobilenet_v1_coco_2018_01_28'\n",
    "!python ${TF_OBJECT_DETECTION_API}/legacy/train.py \\\n",
    "    --pipeline_config_path=/data/pets/trained_model/pipeline.config \\\n",
    "    --train_dir=/data/pets/trained_model  \\\n",
    "    --checkpoint_dir=/data/pretrained_models/${MODEL_NAME} \\\n",
    "    --worker_replicas=2 --num_clones=2 --ps_tasks=1"
   ]
  }
 ],
 "metadata": {
  "kernelspec": {
   "display_name": "Python 3",
   "language": "python",
   "name": "python3"
  },
  "language_info": {
   "codemirror_mode": {
    "name": "ipython",
    "version": 3
   },
   "file_extension": ".py",
   "mimetype": "text/x-python",
   "name": "python",
   "nbconvert_exporter": "python",
   "pygments_lexer": "ipython3",
   "version": "3.6.9"
  }
 },
 "nbformat": 4,
 "nbformat_minor": 4
}
