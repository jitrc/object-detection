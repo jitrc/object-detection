{
 "cells": [
  {
   "cell_type": "markdown",
   "metadata": {},
   "source": [
    "<h3><span style=\"color:red\"> Note: <b>%%bash</b> blocks does not show intermediate outputs, you may want to copy and run these in terminal </span></h3>"
   ]
  },
  {
   "cell_type": "markdown",
   "metadata": {},
   "source": [
    "# Prepare Data"
   ]
  },
  {
   "cell_type": "markdown",
   "metadata": {},
   "source": [
    "## Download\n",
    "\n",
    "Go to http://www.cvlibs.net/datasets/kitti/eval_object.php and get URL to download these files:\n",
    "* Left color images of object data set | `data_object_image_2.zip` | 12GB | [link](http://www.cvlibs.net/download.php?file=data_object_image_2.zip)\n",
    "* Training labels of object data set | `data_object_label_2.zip` | 5MB | [link](http://www.cvlibs.net/download.php?file=data_object_label_2.zip)\n",
    "\n",
    "Alternative source https://www.kaggle.com/twaldo/kitti-object-detection"
   ]
  },
  {
   "cell_type": "code",
   "execution_count": null,
   "metadata": {},
   "outputs": [],
   "source": [
    "%%bash\n",
    "mkdir -p /data/kitti\n",
    "cd /data/kitti\n",
    "\n",
    "export IMAGE_URL='https://s3.eu-central-1.amazonaws.com/avg-kitti/data_object_image_2.zip' # originally http://kitti.is.tue.mpg.de/kitti/data_object_image_2.zip \n",
    "export LABEL_URL='https://s3.eu-central-1.amazonaws.com/avg-kitti/data_object_label_2.zip' # http://kitti.is.tue.mpg.de/kitti/data_object_label_2.zip\n",
    "if [[ -d training/image_2 ]] && [[ $(ls training/image_2/*.png  | wc -l) -ge 7481 ]];then  \n",
    "  echo \"No need to Download\"\n",
    "  echo \"Images already there in ${PWD}/training/image_2/\"\n",
    "else\n",
    "  echo \"Starting Download\" \n",
    "  wget -c --show-progress --progress=bar ${IMAGE_URL}\n",
    "  wget -c --show-progress --progress=bar ${LABEL_URL}\n",
    "  echo \"Extracting\" \n",
    "  unzip -q data_object_image_2.zip\n",
    "  unzip -q data_object_label_2.zip\n",
    "fi\n"
   ]
  },
  {
   "cell_type": "markdown",
   "metadata": {},
   "source": [
    "## Validate"
   ]
  },
  {
   "cell_type": "code",
   "execution_count": null,
   "metadata": {},
   "outputs": [],
   "source": [
    "%%bash\n",
    "\n",
    "cd /data/kitti\n",
    "\n",
    "echo -n \"Images: \" ; ls training/image_2/*.png | wc -l # Should be # 7481\n",
    "\n",
    "echo \"Structure\"\n",
    "tree --filelimit 20 \n"
   ]
  },
  {
   "cell_type": "markdown",
   "metadata": {},
   "source": [
    "Expected path\n",
    "<data_dir>/training/label_2 (annotations) and\n",
    "<data_dir>/data_object_image_2/training/image_2\n"
   ]
  },
  {
   "cell_type": "markdown",
   "metadata": {},
   "source": [
    "## Symlink to match script\n",
    "\n",
    "`dataset_tools/create_kitti_tf_record.py` needs `data_object_image_2/training` to point to `training`\n",
    "\n",
    "Setting up relative symlink to `../training`"
   ]
  },
  {
   "cell_type": "code",
   "execution_count": null,
   "metadata": {},
   "outputs": [],
   "source": [
    "%%bash\n",
    "cd /data/kitti\n",
    "\n",
    "if [ ! -d \"data_object_image_2\" ] \n",
    "then\n",
    "    echo \"Directory data_object_image_2 DOES NOT exists.\" \n",
    "    mkdir data_object_image_2\n",
    "    ln -s ../training data_object_image_2/training\n",
    "fi\n",
    "\n",
    "ls /data/kitti/data_object_image_2/training/"
   ]
  },
  {
   "cell_type": "markdown",
   "metadata": {},
   "source": [
    "## Convert to tfrecord"
   ]
  },
  {
   "cell_type": "code",
   "execution_count": null,
   "metadata": {},
   "outputs": [],
   "source": [
    "%%bash\n",
    "# !ls ${TF_OBJECT_DETECTION_API}/data\n",
    "mkdir -p /data/kitti/kitti_img2d_tf/\n",
    "if [[ ! -f \"/data/kitti/kitti_img2d_tf/kitti_train.tfrecord\" ]]\n",
    "then\n",
    "  python ${TF_OBJECT_DETECTION_API}/dataset_tools/create_kitti_tf_record.py \\\n",
    "        --data_dir=/data/kitti \\\n",
    "        --output_path=/data/kitti/kitti_img2d_tf/kitti \\\n",
    "        --label_map_path=${TF_OBJECT_DETECTION_API}/data/kitti_label_map.pbtxt\n",
    "fi\n",
    "ls --size --block-size=M /data/kitti/kitti_img2d_tf/"
   ]
  },
  {
   "cell_type": "markdown",
   "metadata": {},
   "source": [
    "# Prepare Training"
   ]
  },
  {
   "cell_type": "markdown",
   "metadata": {},
   "source": [
    "## Get pretrained model"
   ]
  },
  {
   "cell_type": "code",
   "execution_count": null,
   "metadata": {},
   "outputs": [],
   "source": [
    "%%bash\n",
    "export MODEL_NAME='faster_rcnn_resnet101_kitti_2018_01_28'\n",
    "mkdir -p /data/pretrained_models\n",
    "cd /data/pretrained_models\n",
    "\n",
    "if [[ -d /data/pretrained_models/${MODEL_NAME} ]]\n",
    "then \n",
    "  echo \"Model ${MODEL_NAME} already exists\" \n",
    "else\n",
    "  echo \"Downloading model ${MODEL_NAME}\" \n",
    "  wget -c http://download.tensorflow.org/models/object_detection/${MODEL_NAME}.tar.gz \n",
    "  tar xvzf ${MODEL_NAME}.tar.gz\n",
    "fi\n",
    "\n",
    "echo \"Model path: /data/pretrained_models/${MODEL_NAME}\""
   ]
  },
  {
   "cell_type": "markdown",
   "metadata": {},
   "source": [
    "## Configure pipeline\n",
    "Set the paths `PATH_TO_BE_CONFIGURED` to correct values"
   ]
  },
  {
   "cell_type": "code",
   "execution_count": null,
   "metadata": {
    "scrolled": true
   },
   "outputs": [],
   "source": [
    "%%bash\n",
    "export MODEL_NAME='faster_rcnn_resnet101_kitti_2018_01_28'\n",
    "export PRETRAINED_MODEL_PATH=\"/data/pretrained_models/${MODEL_NAME}\"\n",
    "\n",
    "export MODEL_OUT_PATH=\"/data/kitti/trained_model\"\n",
    "mkdir -p ${MODEL_OUT_PATH}\n",
    "\n",
    "#cp ${TF_OBJECT_DETECTION_API}/samples/configs/faster_rcnn_resnet101_kitti.config ${MODEL_OUT_PATH}/kitti_pipeline.config\n",
    "cp ${PRETRAINED_MODEL_PATH}/pipeline.config ${MODEL_OUT_PATH}/kitti_pipeline.config\n",
    "\n",
    "sed -i \"s|PATH_TO_BE_CONFIGURED/model.ckpt|${PRETRAINED_MODEL_PATH}/model.ckpt|g\" ${MODEL_OUT_PATH}/kitti_pipeline.config\n",
    "sed -i \"s|PATH_TO_BE_CONFIGURED/kitti_label_map.pbtxt|${TF_OBJECT_DETECTION_API}/data/kitti_label_map.pbtxt|g\" ${MODEL_OUT_PATH}/kitti_pipeline.config\n",
    "sed -i \"s|PATH_TO_BE_CONFIGURED/kitti_train.tfrecord|/data/kitti/kitti_img2d_tf/kitti_train.tfrecord|g\" ${MODEL_OUT_PATH}/kitti_pipeline.config\n",
    "sed -i \"s|PATH_TO_BE_CONFIGURED/kitti_val.tfrecord|/data/kitti/kitti_img2d_tf/kitti_val.tfrecord|g\" ${MODEL_OUT_PATH}/kitti_pipeline.config\n",
    "sed -i \"s|step: 0|step: 1|g\" ${MODEL_OUT_PATH}/kitti_pipeline.config # Bug fix\n",
    "sed -i \"s|coco_metrics|coco_detection_metrics|g\" ${MODEL_OUT_PATH}/kitti_pipeline.config \n",
    "\n",
    "# Check the final config manually\n",
    "cat ${MODEL_OUT_PATH}/kitti_pipeline.config"
   ]
  },
  {
   "cell_type": "markdown",
   "metadata": {},
   "source": [
    "# Training\n",
    "## Setup Tensorboard"
   ]
  },
  {
   "cell_type": "code",
   "execution_count": null,
   "metadata": {},
   "outputs": [],
   "source": [
    "%load_ext tensorboard.notebook\n",
    "%tensorboard --logdir /data/kitti/trained_model/\n",
    "\n",
    "#from tensorboard import notebook\n",
    "#notebook.display(height = 1000)"
   ]
  },
  {
   "cell_type": "markdown",
   "metadata": {},
   "source": [
    "## Evalute pretrained model"
   ]
  },
  {
   "cell_type": "code",
   "execution_count": null,
   "metadata": {},
   "outputs": [],
   "source": [
    "!python ${TF_OBJECT_DETECTION_API}/model_main.py \\\n",
    "  --pipeline_config_path=/data/kitti/trained_model/kitti_pipeline.config \\\n",
    "  --checkpoint_dir=/data/pretrained_models/faster_rcnn_resnet101_kitti_2018_01_28 \\\n",
    "  --model_dir=/data/kitti/trained_model/faster_rcnn_resnet101_kitti # \\\n",
    "  # --run_once=True \n"
   ]
  },
  {
   "cell_type": "markdown",
   "metadata": {},
   "source": [
    "## Train (fine tune)"
   ]
  },
  {
   "cell_type": "code",
   "execution_count": null,
   "metadata": {},
   "outputs": [],
   "source": [
    "!python ${TF_OBJECT_DETECTION_API}/model_main.py \\\n",
    "    --model_dir=/data/kitti/trained_model/faster_rcnn_resnet101_kitti \\\n",
    "    --pipeline_config_path=/data/kitti/trained_model/kitti_pipeline.config \\\n",
    "    --alsologtostderr \\\n",
    "    --num_train_step=50000\n",
    "    "
   ]
  },
  {
   "cell_type": "markdown",
   "metadata": {},
   "source": [
    "# Legacy\n",
    "## Eval"
   ]
  },
  {
   "cell_type": "code",
   "execution_count": null,
   "metadata": {},
   "outputs": [],
   "source": [
    "!python ${TF_OBJECT_DETECTION_API}/legacy/eval.py \\\n",
    "    --pipeline_config_path=/data/kitti/trained_model/kitti_pipeline.config \\\n",
    "    --eval_dir=/data/kitti/trained_model/faster_rcnn_resnet101_kitti  \\\n",
    "    --checkpoint_dir=/data/pretrained_models/faster_rcnn_resnet101_kitti_2018_01_28"
   ]
  },
  {
   "cell_type": "markdown",
   "metadata": {},
   "source": [
    "## Train"
   ]
  },
  {
   "cell_type": "code",
   "execution_count": null,
   "metadata": {},
   "outputs": [],
   "source": [
    "!python ${TF_OBJECT_DETECTION_API}/legacy/train.py \\\n",
    "    --pipeline_config_path=/data/kitti/trained_model/kitti_pipeline.config \\\n",
    "    --train_dir=/data/kitti/trained_model/faster_rcnn_resnet101_kitti  \\\n",
    "    --checkpoint_dir=/data/pretrained_models/faster_rcnn_resnet101_kitti_2018_01_28"
   ]
  }
 ],
 "metadata": {
  "kernelspec": {
   "display_name": "Python 3",
   "language": "python",
   "name": "python3"
  },
  "language_info": {
   "codemirror_mode": {
    "name": "ipython",
    "version": 3
   },
   "file_extension": ".py",
   "mimetype": "text/x-python",
   "name": "python",
   "nbconvert_exporter": "python",
   "pygments_lexer": "ipython3",
   "version": "3.6.9"
  }
 },
 "nbformat": 4,
 "nbformat_minor": 4
}
