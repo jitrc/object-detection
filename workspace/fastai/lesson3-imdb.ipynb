{
 "cells": [
  {
   "cell_type": "markdown",
   "metadata": {},
   "source": [
    "# IMDB"
   ]
  },
  {
   "cell_type": "code",
   "execution_count": 1,
   "metadata": {},
   "outputs": [],
   "source": [
    "%reload_ext autoreload\n",
    "%autoreload 2\n",
    "%matplotlib inline"
   ]
  },
  {
   "cell_type": "code",
   "execution_count": 2,
   "metadata": {},
   "outputs": [
    {
     "name": "stdout",
     "output_type": "stream",
     "text": [
      "env: CUDA_VISIBLE_DEVICES=0\n",
      "GeForce RTX 2080 Ti\n",
      "total_memory 11019.4375\n",
      "6104MB of GPU RAM free\n"
     ]
    }
   ],
   "source": [
    "import torch\n",
    "import fastai\n",
    "from fastai.utils.mem import *\n",
    "import os\n",
    "\n",
    "GPU_NO=0\n",
    "\n",
    "os.environ[\"CUDA_VISIBLE_DEVICES\"]=str(GPU_NO)\n",
    "%env CUDA_VISIBLE_DEVICES={GPU_NO}\n",
    "\n",
    "torch.cuda.set_device(GPU_NO)\n",
    "torch.cuda.empty_cache()\n",
    "print(torch.cuda.get_device_name())\n",
    "print(f\"total_memory {torch.cuda.get_device_properties(GPU_NO).total_memory/1024**2}\")\n",
    "print(f\"{gpu_mem_get_free_no_cache()}MB of GPU RAM free\")"
   ]
  },
  {
   "cell_type": "code",
   "execution_count": 3,
   "metadata": {},
   "outputs": [],
   "source": [
    "from fastai.text import *"
   ]
  },
  {
   "cell_type": "markdown",
   "metadata": {},
   "source": [
    "## Preparing the data"
   ]
  },
  {
   "cell_type": "markdown",
   "metadata": {},
   "source": [
    "First let's download the dataset we are going to study. The [dataset](http://ai.stanford.edu/~amaas/data/sentiment/) has been curated by Andrew Maas et al. and contains a total of 100,000 reviews on IMDB. 25,000 of them are labelled as positive and negative for training, another 25,000 are labelled for testing (in both cases they are highly polarized). The remaning 50,000 is an additional unlabelled data (but we will find a use for it nonetheless).\n",
    "\n",
    "We'll begin with a sample we've prepared for you, so that things run quickly before going over the full dataset."
   ]
  },
  {
   "cell_type": "code",
   "execution_count": 4,
   "metadata": {},
   "outputs": [
    {
     "data": {
      "text/plain": [
       "[PosixPath('/docker_home/.fastai/data/imdb_sample/texts.csv'),\n",
       " PosixPath('/docker_home/.fastai/data/imdb_sample/data_save.pkl')]"
      ]
     },
     "execution_count": 4,
     "metadata": {},
     "output_type": "execute_result"
    }
   ],
   "source": [
    "path = untar_data(URLs.IMDB_SAMPLE)\n",
    "path.ls()"
   ]
  },
  {
   "cell_type": "markdown",
   "metadata": {},
   "source": [
    "It only contains one csv file, let's have a look at it."
   ]
  },
  {
   "cell_type": "code",
   "execution_count": 5,
   "metadata": {},
   "outputs": [
    {
     "data": {
      "text/html": [
       "<div>\n",
       "<style scoped>\n",
       "    .dataframe tbody tr th:only-of-type {\n",
       "        vertical-align: middle;\n",
       "    }\n",
       "\n",
       "    .dataframe tbody tr th {\n",
       "        vertical-align: top;\n",
       "    }\n",
       "\n",
       "    .dataframe thead th {\n",
       "        text-align: right;\n",
       "    }\n",
       "</style>\n",
       "<table border=\"1\" class=\"dataframe\">\n",
       "  <thead>\n",
       "    <tr style=\"text-align: right;\">\n",
       "      <th></th>\n",
       "      <th>label</th>\n",
       "      <th>text</th>\n",
       "      <th>is_valid</th>\n",
       "    </tr>\n",
       "  </thead>\n",
       "  <tbody>\n",
       "    <tr>\n",
       "      <th>0</th>\n",
       "      <td>negative</td>\n",
       "      <td>Un-bleeping-believable! Meg Ryan doesn't even ...</td>\n",
       "      <td>False</td>\n",
       "    </tr>\n",
       "    <tr>\n",
       "      <th>1</th>\n",
       "      <td>positive</td>\n",
       "      <td>This is a extremely well-made film. The acting...</td>\n",
       "      <td>False</td>\n",
       "    </tr>\n",
       "    <tr>\n",
       "      <th>2</th>\n",
       "      <td>negative</td>\n",
       "      <td>Every once in a long while a movie will come a...</td>\n",
       "      <td>False</td>\n",
       "    </tr>\n",
       "    <tr>\n",
       "      <th>3</th>\n",
       "      <td>positive</td>\n",
       "      <td>Name just says it all. I watched this movie wi...</td>\n",
       "      <td>False</td>\n",
       "    </tr>\n",
       "    <tr>\n",
       "      <th>4</th>\n",
       "      <td>negative</td>\n",
       "      <td>This movie succeeds at being one of the most u...</td>\n",
       "      <td>False</td>\n",
       "    </tr>\n",
       "  </tbody>\n",
       "</table>\n",
       "</div>"
      ],
      "text/plain": [
       "      label                                               text  is_valid\n",
       "0  negative  Un-bleeping-believable! Meg Ryan doesn't even ...     False\n",
       "1  positive  This is a extremely well-made film. The acting...     False\n",
       "2  negative  Every once in a long while a movie will come a...     False\n",
       "3  positive  Name just says it all. I watched this movie wi...     False\n",
       "4  negative  This movie succeeds at being one of the most u...     False"
      ]
     },
     "execution_count": 5,
     "metadata": {},
     "output_type": "execute_result"
    }
   ],
   "source": [
    "df = pd.read_csv(path/'texts.csv')\n",
    "df.head()"
   ]
  },
  {
   "cell_type": "code",
   "execution_count": 6,
   "metadata": {},
   "outputs": [
    {
     "data": {
      "text/plain": [
       "'This is a extremely well-made film. The acting, script and camera-work are all first-rate. The music is good, too, though it is mostly early in the film, when things are still relatively cheery. There are no really superstars in the cast, though several faces will be familiar. The entire cast does an excellent job with the script.<br /><br />But it is hard to watch, because there is no good end to a situation like the one presented. It is now fashionable to blame the British for setting Hindus and Muslims against each other, and then cruelly separating them into two countries. There is some merit in this view, but it\\'s also true that no one forced Hindus and Muslims in the region to mistreat each other as they did around the time of partition. It seems more likely that the British simply saw the tensions between the religions and were clever enough to exploit them to their own ends.<br /><br />The result is that there is much cruelty and inhumanity in the situation and this is very unpleasant to remember and to see on the screen. But it is never painted as a black-and-white case. There is baseness and nobility on both sides, and also the hope for change in the younger generation.<br /><br />There is redemption of a sort, in the end, when Puro has to make a hard choice between a man who has ruined her life, but also truly loved her, and her family which has disowned her, then later come looking for her. But by that point, she has no option that is without great pain for her.<br /><br />This film carries the message that both Muslims and Hindus have their grave faults, and also that both can be dignified and caring people. The reality of partition makes that realisation all the more wrenching, since there can never be real reconciliation across the India/Pakistan border. In that sense, it is similar to \"Mr & Mrs Iyer\".<br /><br />In the end, we were glad to have seen the film, even though the resolution was heartbreaking. If the UK and US could deal with their own histories of racism with this kind of frankness, they would certainly be better off.'"
      ]
     },
     "execution_count": 6,
     "metadata": {},
     "output_type": "execute_result"
    }
   ],
   "source": [
    "df['text'][1]"
   ]
  },
  {
   "cell_type": "markdown",
   "metadata": {},
   "source": [
    "It contains one line per review, with the label ('negative' or 'positive'), the text and a flag to determine if it should be part of the validation set or the training set. If we ignore this flag, we can create a DataBunch containing this data in one line of code:"
   ]
  },
  {
   "cell_type": "code",
   "execution_count": 7,
   "metadata": {},
   "outputs": [
    {
     "data": {
      "text/html": [],
      "text/plain": [
       "<IPython.core.display.HTML object>"
      ]
     },
     "metadata": {},
     "output_type": "display_data"
    },
    {
     "data": {
      "text/html": [],
      "text/plain": [
       "<IPython.core.display.HTML object>"
      ]
     },
     "metadata": {},
     "output_type": "display_data"
    }
   ],
   "source": [
    "data_lm = TextDataBunch.from_csv(path, 'texts.csv')"
   ]
  },
  {
   "cell_type": "markdown",
   "metadata": {},
   "source": [
    "By executing this line a process was launched that took a bit of time. Let's dig a bit into it. Images could be fed (almost) directly into a model because they're just a big array of pixel values that are floats between 0 and 1. A text is composed of words, and we can't apply mathematical functions to them directly. We first have to convert them to numbers. This is done in two differents steps: tokenization and numericalization. A `TextDataBunch` does all of that behind the scenes for you.\n",
    "\n",
    "Before we delve into the explanations, let's take the time to save the things that were calculated."
   ]
  },
  {
   "cell_type": "code",
   "execution_count": 8,
   "metadata": {},
   "outputs": [],
   "source": [
    "data_lm.save()"
   ]
  },
  {
   "cell_type": "markdown",
   "metadata": {},
   "source": [
    "Next time we launch this notebook, we can skip the cell above that took a bit of time (and that will take a lot more when you get to the full dataset) and load those results like this:"
   ]
  },
  {
   "cell_type": "code",
   "execution_count": 9,
   "metadata": {},
   "outputs": [],
   "source": [
    "data = load_data(path)"
   ]
  },
  {
   "cell_type": "markdown",
   "metadata": {},
   "source": [
    "### Tokenization"
   ]
  },
  {
   "cell_type": "markdown",
   "metadata": {},
   "source": [
    "The first step of processing we make the texts go through is to split the raw sentences into words, or more exactly tokens. The easiest way to do this would be to split the string on spaces, but we can be smarter:\n",
    "\n",
    "- we need to take care of punctuation\n",
    "- some words are contractions of two different words, like isn't or don't\n",
    "- we may need to clean some parts of our texts, if there's HTML code for instance\n",
    "\n",
    "To see what the tokenizer had done behind the scenes, let's have a look at a few texts in a batch."
   ]
  },
  {
   "cell_type": "code",
   "execution_count": 10,
   "metadata": {},
   "outputs": [
    {
     "data": {
      "text/html": [],
      "text/plain": [
       "<IPython.core.display.HTML object>"
      ]
     },
     "metadata": {},
     "output_type": "display_data"
    },
    {
     "data": {
      "text/html": [],
      "text/plain": [
       "<IPython.core.display.HTML object>"
      ]
     },
     "metadata": {},
     "output_type": "display_data"
    },
    {
     "data": {
      "text/html": [
       "<table border=\"1\" class=\"dataframe\">\n",
       "  <thead>\n",
       "    <tr style=\"text-align: right;\">\n",
       "      <th>text</th>\n",
       "      <th>target</th>\n",
       "    </tr>\n",
       "  </thead>\n",
       "  <tbody>\n",
       "    <tr>\n",
       "      <td>xxbos xxmaj raising xxmaj victor xxmaj vargas : a xxmaj review \\n \\n  xxmaj you know , xxmaj raising xxmaj victor xxmaj vargas is like sticking your hands into a big , xxunk bowl of xxunk . xxmaj it 's warm and gooey , but you 're not sure if it feels right . xxmaj try as i might , no matter how warm and gooey xxmaj raising xxmaj</td>\n",
       "      <td>negative</td>\n",
       "    </tr>\n",
       "    <tr>\n",
       "      <td>xxbos xxup the xxup shop xxup around xxup the xxup corner is one of the xxunk and most feel - good romantic comedies ever made . xxmaj there 's just no getting around that , and it 's hard to actually put one 's feeling for this film into words . xxmaj it 's not one of those films that tries too hard , nor does it come up with</td>\n",
       "      <td>positive</td>\n",
       "    </tr>\n",
       "    <tr>\n",
       "      <td>xxbos xxmaj now that xxmaj che(2008 ) has finished its relatively short xxmaj australian cinema run ( extremely limited xxunk screen in xxmaj sydney , after xxunk ) , i can xxunk join both xxunk of \" xxmaj at xxmaj the xxmaj movies \" in taking xxmaj steven xxmaj soderbergh to task . \\n \\n  xxmaj it 's usually satisfying to watch a film director change his style /</td>\n",
       "      <td>negative</td>\n",
       "    </tr>\n",
       "    <tr>\n",
       "      <td>xxbos xxmaj this film sat on my xxmaj tivo for weeks before i watched it . i dreaded a self - indulgent xxunk flick about relationships gone bad . i was wrong ; this was an xxunk xxunk into the screwed - up xxunk of xxmaj new xxmaj yorkers . \\n \\n  xxmaj the format is the same as xxmaj max xxmaj xxunk ' \" xxmaj la xxmaj ronde</td>\n",
       "      <td>positive</td>\n",
       "    </tr>\n",
       "    <tr>\n",
       "      <td>xxbos xxmaj many neglect that this is n't just a classic due to the fact that it 's the first xxup 3d game , or even the first xxunk - up . xxmaj it 's also one of the first stealth games , one of the xxunk definitely the first ) truly claustrophobic games , and just a pretty well - rounded gaming experience in general . xxmaj with graphics</td>\n",
       "      <td>positive</td>\n",
       "    </tr>\n",
       "  </tbody>\n",
       "</table>"
      ],
      "text/plain": [
       "<IPython.core.display.HTML object>"
      ]
     },
     "metadata": {},
     "output_type": "display_data"
    }
   ],
   "source": [
    "data = TextClasDataBunch.from_csv(path, 'texts.csv')\n",
    "data.show_batch()"
   ]
  },
  {
   "cell_type": "markdown",
   "metadata": {},
   "source": [
    "The texts are truncated at 100 tokens for more readability. We can see that it did more than just split on space and punctuation symbols: \n",
    "- the \"'s\" are grouped together in one token\n",
    "- the contractions are separated like this: \"did\", \"n't\"\n",
    "- content has been cleaned for any HTML symbol and lower cased\n",
    "- there are several special tokens (all those that begin by xx), to replace unknown tokens (see below) or to introduce different text fields (here we only have one)."
   ]
  },
  {
   "cell_type": "markdown",
   "metadata": {},
   "source": [
    "### Numericalization"
   ]
  },
  {
   "cell_type": "markdown",
   "metadata": {},
   "source": [
    "Once we have extracted tokens from our texts, we convert to integers by creating a list of all the words used. We only keep the ones that appear at least twice with a maximum vocabulary size of 60,000 (by default) and replace the ones that don't make the cut by the unknown token `UNK`.\n",
    "\n",
    "The correspondance from ids to tokens is stored in the `vocab` attribute of our datasets, in a dictionary called `itos` (for int to string)."
   ]
  },
  {
   "cell_type": "code",
   "execution_count": 11,
   "metadata": {},
   "outputs": [
    {
     "data": {
      "text/plain": [
       "['xxunk',\n",
       " 'xxpad',\n",
       " 'xxbos',\n",
       " 'xxeos',\n",
       " 'xxfld',\n",
       " 'xxmaj',\n",
       " 'xxup',\n",
       " 'xxrep',\n",
       " 'xxwrep',\n",
       " 'the']"
      ]
     },
     "execution_count": 11,
     "metadata": {},
     "output_type": "execute_result"
    }
   ],
   "source": [
    "data.vocab.itos[:10]"
   ]
  },
  {
   "cell_type": "markdown",
   "metadata": {},
   "source": [
    "And if we look at what a what's in our datasets, we'll see the tokenized text as a representation:"
   ]
  },
  {
   "cell_type": "code",
   "execution_count": 12,
   "metadata": {},
   "outputs": [
    {
     "data": {
      "text/plain": [
       "Text [  2   5   9  28 ...  15 354 535  11]"
      ]
     },
     "execution_count": 12,
     "metadata": {},
     "output_type": "execute_result"
    }
   ],
   "source": [
    "data.train_ds[0][0]"
   ]
  },
  {
   "cell_type": "markdown",
   "metadata": {},
   "source": [
    "But the underlying data is all numbers"
   ]
  },
  {
   "cell_type": "code",
   "execution_count": 13,
   "metadata": {},
   "outputs": [
    {
     "data": {
      "text/plain": [
       "array([  2,   5,   9,  28,  12, 119,  38,  39,  90,  12])"
      ]
     },
     "execution_count": 13,
     "metadata": {},
     "output_type": "execute_result"
    }
   ],
   "source": [
    "data.train_ds[0][0].data[:10]"
   ]
  },
  {
   "cell_type": "markdown",
   "metadata": {},
   "source": [
    "### With the data block API"
   ]
  },
  {
   "cell_type": "markdown",
   "metadata": {},
   "source": [
    "We can use the data block API with NLP and have a lot more flexibility than what the default factory methods offer. In the previous example for instance, the data was randomly split between train and validation instead of reading the third column of the csv.\n",
    "\n",
    "With the data block API though, we have to manually call the tokenize and numericalize steps. This allows more flexibility, and if you're not using the defaults from fastai, the various arguments to pass will appear in the step they're revelant, so it'll be more readable."
   ]
  },
  {
   "cell_type": "code",
   "execution_count": 14,
   "metadata": {},
   "outputs": [
    {
     "data": {
      "text/html": [],
      "text/plain": [
       "<IPython.core.display.HTML object>"
      ]
     },
     "metadata": {},
     "output_type": "display_data"
    },
    {
     "data": {
      "text/html": [],
      "text/plain": [
       "<IPython.core.display.HTML object>"
      ]
     },
     "metadata": {},
     "output_type": "display_data"
    }
   ],
   "source": [
    "data = (TextList.from_csv(path, 'texts.csv', cols='text')\n",
    "                .split_from_df(col=2)\n",
    "                .label_from_df(cols=0)\n",
    "                .databunch())"
   ]
  },
  {
   "cell_type": "markdown",
   "metadata": {},
   "source": [
    "## Language model"
   ]
  },
  {
   "cell_type": "markdown",
   "metadata": {},
   "source": [
    "Note that language models can use a lot of GPU, so you may need to decrease batchsize here."
   ]
  },
  {
   "cell_type": "code",
   "execution_count": 15,
   "metadata": {},
   "outputs": [],
   "source": [
    "bs=48"
   ]
  },
  {
   "cell_type": "markdown",
   "metadata": {},
   "source": [
    "Now let's grab the full dataset for what follows."
   ]
  },
  {
   "cell_type": "code",
   "execution_count": 16,
   "metadata": {},
   "outputs": [
    {
     "data": {
      "text/plain": [
       "[PosixPath('/docker_home/.fastai/data/imdb/imdb.vocab'),\n",
       " PosixPath('/docker_home/.fastai/data/imdb/test'),\n",
       " PosixPath('/docker_home/.fastai/data/imdb/train'),\n",
       " PosixPath('/docker_home/.fastai/data/imdb/tmp_clas'),\n",
       " PosixPath('/docker_home/.fastai/data/imdb/data_lm.pkl'),\n",
       " PosixPath('/docker_home/.fastai/data/imdb/models'),\n",
       " PosixPath('/docker_home/.fastai/data/imdb/data_clas.pkl'),\n",
       " PosixPath('/docker_home/.fastai/data/imdb/README'),\n",
       " PosixPath('/docker_home/.fastai/data/imdb/unsup'),\n",
       " PosixPath('/docker_home/.fastai/data/imdb/tmp_lm')]"
      ]
     },
     "execution_count": 16,
     "metadata": {},
     "output_type": "execute_result"
    }
   ],
   "source": [
    "path = untar_data(URLs.IMDB)\n",
    "path.ls()"
   ]
  },
  {
   "cell_type": "code",
   "execution_count": 17,
   "metadata": {},
   "outputs": [
    {
     "data": {
      "text/plain": [
       "[PosixPath('/docker_home/.fastai/data/imdb/train/unsupBow.feat'),\n",
       " PosixPath('/docker_home/.fastai/data/imdb/train/neg'),\n",
       " PosixPath('/docker_home/.fastai/data/imdb/train/labeledBow.feat'),\n",
       " PosixPath('/docker_home/.fastai/data/imdb/train/pos')]"
      ]
     },
     "execution_count": 17,
     "metadata": {},
     "output_type": "execute_result"
    }
   ],
   "source": [
    "(path/'train').ls()"
   ]
  },
  {
   "cell_type": "markdown",
   "metadata": {},
   "source": [
    "The reviews are in a training and test set following an imagenet structure. The only difference is that there is an `unsup` folder on top of `train` and `test` that contains the unlabelled data.\n",
    "\n",
    "We're not going to train a model that classifies the reviews from scratch. Like in computer vision, we'll use a model pretrained on a bigger dataset (a cleaned subset of wikipedia called [wikitext-103](https://einstein.ai/research/blog/the-wikitext-long-term-dependency-language-modeling-dataset)). That model has been trained to guess what the next word is, its input being all the previous words. It has a recurrent structure and a hidden state that is updated each time it sees a new word. This hidden state thus contains information about the sentence up to that point.\n",
    "\n",
    "We are going to use that 'knowledge' of the English language to build our classifier, but first, like for computer vision, we need to fine-tune the pretrained model to our particular dataset. Because the English of the reviews left by people on IMDB isn't the same as the English of wikipedia, we'll need to adjust the parameters of our model by a little bit. Plus there might be some words that would be extremely common in the reviews dataset but would be barely present in wikipedia, and therefore might not be part of the vocabulary the model was trained on."
   ]
  },
  {
   "cell_type": "markdown",
   "metadata": {},
   "source": [
    "This is where the unlabelled data is going to be useful to us, as we can use it to fine-tune our model. Let's create our data object with the data block API (next line takes a few minutes)."
   ]
  },
  {
   "cell_type": "code",
   "execution_count": 18,
   "metadata": {},
   "outputs": [
    {
     "data": {
      "text/html": [],
      "text/plain": [
       "<IPython.core.display.HTML object>"
      ]
     },
     "metadata": {},
     "output_type": "display_data"
    },
    {
     "data": {
      "text/html": [],
      "text/plain": [
       "<IPython.core.display.HTML object>"
      ]
     },
     "metadata": {},
     "output_type": "display_data"
    }
   ],
   "source": [
    "data_lm = (TextList.from_folder(path)\n",
    "           #Inputs: all the text files in path\n",
    "            .filter_by_folder(include=['train', 'test', 'unsup']) \n",
    "           #We may have other temp folders that contain text files so we only keep what's in train and test\n",
    "            .split_by_rand_pct(0.1)\n",
    "           #We randomly split and keep 10% (10,000 reviews) for validation\n",
    "            .label_for_lm()           \n",
    "           #We want to do a language model so we label accordingly\n",
    "            .databunch(bs=bs))\n",
    "data_lm.save('data_lm.pkl')"
   ]
  },
  {
   "cell_type": "markdown",
   "metadata": {},
   "source": [
    "We have to use a special kind of `TextDataBunch` for the language model, that ignores the labels (that's why we put 0 everywhere), will shuffle the texts at each epoch before concatenating them all together (only for training, we don't shuffle for the validation set) and will send batches that read that text in order with targets that are the next word in the sentence.\n",
    "\n",
    "The line before being a bit long, we want to load quickly the final ids by using the following cell."
   ]
  },
  {
   "cell_type": "code",
   "execution_count": 19,
   "metadata": {},
   "outputs": [],
   "source": [
    "data_lm = load_data(path, 'data_lm.pkl', bs=bs)"
   ]
  },
  {
   "cell_type": "code",
   "execution_count": 20,
   "metadata": {},
   "outputs": [
    {
     "data": {
      "text/html": [
       "<table border=\"1\" class=\"dataframe\">\n",
       "  <thead>\n",
       "    <tr style=\"text-align: right;\">\n",
       "      <th>idx</th>\n",
       "      <th>text</th>\n",
       "    </tr>\n",
       "  </thead>\n",
       "  <tbody>\n",
       "    <tr>\n",
       "      <td>0</td>\n",
       "      <td>xxunk . xxmaj this movie depicts the destruction of xxmaj sodom a good 1000 years before it happened , and what about xxmaj xxunk ? xxmaj it too was destroyed at the same time xxmaj sodom was . ( xxmaj maybe the producers thought that not including xxmaj xxunk in the story and showing the city of \" xxmaj sodom \" as in you - know - what would raise</td>\n",
       "    </tr>\n",
       "    <tr>\n",
       "      <td>1</td>\n",
       "      <td>all but have everyone wondering , and follow xxmaj jack 's descent into madness , and this might have been a top rate hitchcock - style thriller , maybe award material . xxmaj the acting is n't bad . xxmaj but those rubber bats just reduce it to standard fare . xxbos xxmaj what the hell is this movie about ? xxmaj well , if i did n't know that</td>\n",
       "    </tr>\n",
       "    <tr>\n",
       "      <td>2</td>\n",
       "      <td>pretty xxmaj sally xxmaj rogers , and alas , xxmaj randy rides alone no more ! xxbos xxmaj now , i 'm a big fan of xxmaj zombie movies . i admit xxmaj zombie movies usually are n't all that good , but i like them anyways . xxmaj despite the crappy acting and worthless dialogues that occur in almost all xxmaj zombie movies , this one is by far</td>\n",
       "    </tr>\n",
       "    <tr>\n",
       "      <td>3</td>\n",
       "      <td>laurence xxmaj fishburne , xxmaj ethan xxmaj hawke , xxmaj gabriel xxmaj xxunk , xxmaj john xxmaj leguizamo and xxmaj drea xxmaj de xxmaj matteo are all great actors but even they could n't save this film . xxmaj it was just wrong . xxmaj even the setting was completely opposite . xxmaj and how in the hell did no one in that city notice that there was a war</td>\n",
       "    </tr>\n",
       "    <tr>\n",
       "      <td>4</td>\n",
       "      <td>infamy . xxmaj but there the positives end . xxmaj cushing sleepwalks through it , looking like he has a corn cob up his bum and xxmaj pleasance fusses about trying his best , but never quite getting things right . xxmaj to make matters worse the character of xxmaj milo is appallingly flimsy and unlikeable . \\n \\n  xxmaj okay , so it does n't look that good</td>\n",
       "    </tr>\n",
       "  </tbody>\n",
       "</table>"
      ],
      "text/plain": [
       "<IPython.core.display.HTML object>"
      ]
     },
     "metadata": {},
     "output_type": "display_data"
    }
   ],
   "source": [
    "data_lm.show_batch()"
   ]
  },
  {
   "cell_type": "markdown",
   "metadata": {},
   "source": [
    "We can then put this in a learner object very easily with a model loaded with the pretrained weights. They'll be downloaded the first time you'll execute the following line and stored in `~/.fastai/models/` (or elsewhere if you specified different paths in your config file)."
   ]
  },
  {
   "cell_type": "code",
   "execution_count": 21,
   "metadata": {},
   "outputs": [],
   "source": [
    "learn = language_model_learner(data_lm, AWD_LSTM, drop_mult=0.3)"
   ]
  },
  {
   "cell_type": "code",
   "execution_count": 22,
   "metadata": {},
   "outputs": [
    {
     "data": {
      "text/html": [
       "\n",
       "    <div>\n",
       "        <style>\n",
       "            /* Turns off some styling */\n",
       "            progress {\n",
       "                /* gets rid of default border in Firefox and Opera. */\n",
       "                border: none;\n",
       "                /* Needs to be in here for Safari polyfill so background images work as expected. */\n",
       "                background-size: auto;\n",
       "            }\n",
       "            .progress-bar-interrupted, .progress-bar-interrupted::-webkit-progress-bar {\n",
       "                background: #F44336;\n",
       "            }\n",
       "        </style>\n",
       "      <progress value='0' class='' max='1' style='width:300px; height:20px; vertical-align: middle;'></progress>\n",
       "      0.00% [0/1 00:00<00:00]\n",
       "    </div>\n",
       "    \n",
       "<table border=\"1\" class=\"dataframe\">\n",
       "  <thead>\n",
       "    <tr style=\"text-align: left;\">\n",
       "      <th>epoch</th>\n",
       "      <th>train_loss</th>\n",
       "      <th>valid_loss</th>\n",
       "      <th>accuracy</th>\n",
       "      <th>time</th>\n",
       "    </tr>\n",
       "  </thead>\n",
       "  <tbody>\n",
       "  </tbody>\n",
       "</table><p>\n",
       "\n",
       "    <div>\n",
       "        <style>\n",
       "            /* Turns off some styling */\n",
       "            progress {\n",
       "                /* gets rid of default border in Firefox and Opera. */\n",
       "                border: none;\n",
       "                /* Needs to be in here for Safari polyfill so background images work as expected. */\n",
       "                background-size: auto;\n",
       "            }\n",
       "            .progress-bar-interrupted, .progress-bar-interrupted::-webkit-progress-bar {\n",
       "                background: #F44336;\n",
       "            }\n",
       "        </style>\n",
       "      <progress value='99' class='' max='8047' style='width:300px; height:20px; vertical-align: middle;'></progress>\n",
       "      1.23% [99/8047 00:11<15:23 11.3330]\n",
       "    </div>\n",
       "    "
      ],
      "text/plain": [
       "<IPython.core.display.HTML object>"
      ]
     },
     "metadata": {},
     "output_type": "display_data"
    },
    {
     "name": "stdout",
     "output_type": "stream",
     "text": [
      "LR Finder is complete, type {learner_name}.recorder.plot() to see the graph.\n"
     ]
    }
   ],
   "source": [
    "learn.lr_find()"
   ]
  },
  {
   "cell_type": "code",
   "execution_count": 23,
   "metadata": {},
   "outputs": [
    {
     "data": {
      "image/png": "[encoded data removed]",
      "text/plain": [
       "<Figure size 432x288 with 1 Axes>"
      ]
     },
     "metadata": {
      "needs_background": "light"
     },
     "output_type": "display_data"
    }
   ],
   "source": [
    "learn.recorder.plot(skip_end=15)"
   ]
  },
  {
   "cell_type": "code",
   "execution_count": 24,
   "metadata": {},
   "outputs": [
    {
     "data": {
      "text/html": [
       "<table border=\"1\" class=\"dataframe\">\n",
       "  <thead>\n",
       "    <tr style=\"text-align: left;\">\n",
       "      <th>epoch</th>\n",
       "      <th>train_loss</th>\n",
       "      <th>valid_loss</th>\n",
       "      <th>accuracy</th>\n",
       "      <th>time</th>\n",
       "    </tr>\n",
       "  </thead>\n",
       "  <tbody>\n",
       "    <tr>\n",
       "      <td>0</td>\n",
       "      <td>4.162513</td>\n",
       "      <td>4.033428</td>\n",
       "      <td>0.294849</td>\n",
       "      <td>16:38</td>\n",
       "    </tr>\n",
       "  </tbody>\n",
       "</table>"
      ],
      "text/plain": [
       "<IPython.core.display.HTML object>"
      ]
     },
     "metadata": {},
     "output_type": "display_data"
    }
   ],
   "source": [
    "learn.fit_one_cycle(1, 1e-2, moms=(0.8,0.7))"
   ]
  },
  {
   "cell_type": "code",
   "execution_count": 25,
   "metadata": {},
   "outputs": [],
   "source": [
    "learn.save('fit_head')"
   ]
  },
  {
   "cell_type": "code",
   "execution_count": 26,
   "metadata": {},
   "outputs": [],
   "source": [
    "learn.load('fit_head');"
   ]
  },
  {
   "cell_type": "markdown",
   "metadata": {},
   "source": [
    "To complete the fine-tuning, we can then unfeeze and launch a new training."
   ]
  },
  {
   "cell_type": "code",
   "execution_count": 27,
   "metadata": {},
   "outputs": [],
   "source": [
    "learn.unfreeze()"
   ]
  },
  {
   "cell_type": "code",
   "execution_count": 28,
   "metadata": {},
   "outputs": [
    {
     "data": {
      "text/plain": [
       "0"
      ]
     },
     "execution_count": 28,
     "metadata": {},
     "output_type": "execute_result"
    }
   ],
   "source": [
    "gc.collect()"
   ]
  },
  {
   "cell_type": "code",
   "execution_count": 29,
   "metadata": {},
   "outputs": [
    {
     "data": {
      "text/html": [
       "<table border=\"1\" class=\"dataframe\">\n",
       "  <thead>\n",
       "    <tr style=\"text-align: left;\">\n",
       "      <th>epoch</th>\n",
       "      <th>train_loss</th>\n",
       "      <th>valid_loss</th>\n",
       "      <th>accuracy</th>\n",
       "      <th>time</th>\n",
       "    </tr>\n",
       "  </thead>\n",
       "  <tbody>\n",
       "    <tr>\n",
       "      <td>0</td>\n",
       "      <td>3.859812</td>\n",
       "      <td>3.824178</td>\n",
       "      <td>0.316704</td>\n",
       "      <td>18:48</td>\n",
       "    </tr>\n",
       "    <tr>\n",
       "      <td>1</td>\n",
       "      <td>3.811619</td>\n",
       "      <td>3.786831</td>\n",
       "      <td>0.324053</td>\n",
       "      <td>18:47</td>\n",
       "    </tr>\n",
       "    <tr>\n",
       "      <td>2</td>\n",
       "      <td>3.770490</td>\n",
       "      <td>3.755791</td>\n",
       "      <td>0.328263</td>\n",
       "      <td>18:50</td>\n",
       "    </tr>\n",
       "    <tr>\n",
       "      <td>3</td>\n",
       "      <td>3.732193</td>\n",
       "      <td>3.717091</td>\n",
       "      <td>0.332845</td>\n",
       "      <td>18:49</td>\n",
       "    </tr>\n",
       "    <tr>\n",
       "      <td>4</td>\n",
       "      <td>3.628045</td>\n",
       "      <td>3.689613</td>\n",
       "      <td>0.335838</td>\n",
       "      <td>18:50</td>\n",
       "    </tr>\n",
       "    <tr>\n",
       "      <td>5</td>\n",
       "      <td>3.578237</td>\n",
       "      <td>3.664703</td>\n",
       "      <td>0.338914</td>\n",
       "      <td>18:51</td>\n",
       "    </tr>\n",
       "    <tr>\n",
       "      <td>6</td>\n",
       "      <td>3.543063</td>\n",
       "      <td>3.644096</td>\n",
       "      <td>0.341638</td>\n",
       "      <td>18:53</td>\n",
       "    </tr>\n",
       "    <tr>\n",
       "      <td>7</td>\n",
       "      <td>3.463765</td>\n",
       "      <td>3.634302</td>\n",
       "      <td>0.343030</td>\n",
       "      <td>18:52</td>\n",
       "    </tr>\n",
       "    <tr>\n",
       "      <td>8</td>\n",
       "      <td>3.410397</td>\n",
       "      <td>3.631738</td>\n",
       "      <td>0.343432</td>\n",
       "      <td>18:49</td>\n",
       "    </tr>\n",
       "    <tr>\n",
       "      <td>9</td>\n",
       "      <td>3.368446</td>\n",
       "      <td>3.633251</td>\n",
       "      <td>0.343350</td>\n",
       "      <td>18:50</td>\n",
       "    </tr>\n",
       "  </tbody>\n",
       "</table>"
      ],
      "text/plain": [
       "<IPython.core.display.HTML object>"
      ]
     },
     "metadata": {},
     "output_type": "display_data"
    }
   ],
   "source": [
    "learn.fit_one_cycle(10, 1e-3, moms=(0.8,0.7))"
   ]
  },
  {
   "cell_type": "code",
   "execution_count": 30,
   "metadata": {},
   "outputs": [],
   "source": [
    "learn.save('fine_tuned')"
   ]
  },
  {
   "cell_type": "markdown",
   "metadata": {},
   "source": [
    "How good is our model? Well let's try to see what it predicts after a few given words."
   ]
  },
  {
   "cell_type": "code",
   "execution_count": 31,
   "metadata": {},
   "outputs": [],
   "source": [
    "learn.load('fine_tuned');"
   ]
  },
  {
   "cell_type": "code",
   "execution_count": 32,
   "metadata": {},
   "outputs": [],
   "source": [
    "TEXT = \"I liked this movie because\"\n",
    "N_WORDS = 40\n",
    "N_SENTENCES = 2"
   ]
  },
  {
   "cell_type": "code",
   "execution_count": 33,
   "metadata": {},
   "outputs": [
    {
     "name": "stdout",
     "output_type": "stream",
     "text": [
      "I liked this movie because it was so true to the real story of the Little Mermaid . It is very believable , and this movie is still a big plus . i will admit , this was a waste of\n",
      "I liked this movie because it was very entertaining and i think that it was made very well and it did have some good moments . i was also surprised to see that Leo was not there for the rest of his movie .\n"
     ]
    }
   ],
   "source": [
    "print(\"\\n\".join(learn.predict(TEXT, N_WORDS, temperature=0.75) for _ in range(N_SENTENCES)))"
   ]
  },
  {
   "cell_type": "markdown",
   "metadata": {},
   "source": [
    "We have to save not only the model, but also its encoder, the part that's responsible for creating and updating the hidden state. For the next part, we don't care about the part that tries to guess the next word."
   ]
  },
  {
   "cell_type": "code",
   "execution_count": 34,
   "metadata": {},
   "outputs": [],
   "source": [
    "learn.save_encoder('fine_tuned_enc')"
   ]
  },
  {
   "cell_type": "markdown",
   "metadata": {},
   "source": [
    "## Classifier"
   ]
  },
  {
   "cell_type": "markdown",
   "metadata": {},
   "source": [
    "Now, we'll create a new data object that only grabs the labelled data and keeps those labels. Again, this line takes a bit of time."
   ]
  },
  {
   "cell_type": "code",
   "execution_count": 4,
   "metadata": {},
   "outputs": [],
   "source": [
    "path = untar_data(URLs.IMDB)"
   ]
  },
  {
   "cell_type": "code",
   "execution_count": 5,
   "metadata": {},
   "outputs": [],
   "source": [
    "bs=48"
   ]
  },
  {
   "cell_type": "code",
   "execution_count": null,
   "metadata": {},
   "outputs": [],
   "source": [
    "data_clas = (TextList.from_folder(path, vocab=data_lm.vocab)\n",
    "             #grab all the text files in path\n",
    "             .split_by_folder(valid='test')\n",
    "             #split by train and valid folder (that only keeps 'train' and 'test' so no need to filter)\n",
    "             .label_from_folder(classes=['neg', 'pos'])\n",
    "             #label them all with their folders\n",
    "             .databunch(bs=bs))\n",
    "\n",
    "data_clas.save('data_clas.pkl')"
   ]
  },
  {
   "cell_type": "code",
   "execution_count": 19,
   "metadata": {},
   "outputs": [],
   "source": [
    "data_clas = load_data(path, 'data_clas.pkl', bs=bs)"
   ]
  },
  {
   "cell_type": "code",
   "execution_count": 20,
   "metadata": {},
   "outputs": [
    {
     "data": {
      "text/html": [
       "<table border=\"1\" class=\"dataframe\">\n",
       "  <thead>\n",
       "    <tr style=\"text-align: right;\">\n",
       "      <th>text</th>\n",
       "      <th>target</th>\n",
       "    </tr>\n",
       "  </thead>\n",
       "  <tbody>\n",
       "    <tr>\n",
       "      <td>xxbos xxmaj match 1 : xxmaj tag xxmaj team xxmaj table xxmaj match xxmaj bubba xxmaj ray and xxmaj spike xxmaj dudley vs xxmaj eddie xxmaj guerrero and xxmaj chris xxmaj benoit xxmaj bubba xxmaj ray and xxmaj spike xxmaj dudley started things off with a xxmaj tag xxmaj team xxmaj table xxmaj match against xxmaj eddie xxmaj guerrero and xxmaj chris xxmaj benoit . xxmaj according to the rules</td>\n",
       "      <td>pos</td>\n",
       "    </tr>\n",
       "    <tr>\n",
       "      <td>xxbos xxmaj some have praised _ xxunk _ as a xxmaj disney adventure for adults . i do n't think so -- at least not for thinking adults . \\n \\n  xxmaj this script suggests a beginning as a live - action movie , that struck someone as the type of crap you can not sell to adults anymore . xxmaj the \" crack staff \" of many older</td>\n",
       "      <td>neg</td>\n",
       "    </tr>\n",
       "    <tr>\n",
       "      <td>xxbos xxmaj this movie was recently released on xxup dvd in the xxup us and i finally got the chance to see this hard - to - find gem . xxmaj it even came with original theatrical previews of other xxmaj italian horror classics like \" xxup xxunk \" and \" xxup beyond xxup the xxup darkness \" . xxmaj unfortunately , the previews were the best thing about this</td>\n",
       "      <td>neg</td>\n",
       "    </tr>\n",
       "    <tr>\n",
       "      <td>xxbos i thought that xxup rotj was clearly the best out of the three xxmaj star xxmaj wars movies . i find it surprising that xxup rotj is considered the weakest installment in the xxmaj trilogy by many who have voted . xxmaj to me it seemed like xxup rotj was the best because it had the most profound plot , the most suspense , surprises , most xxunk the</td>\n",
       "      <td>pos</td>\n",
       "    </tr>\n",
       "    <tr>\n",
       "      <td>xxbos xxup anchors xxup aweigh sees two eager young sailors , xxmaj joe xxmaj brady ( xxmaj gene xxmaj kelly ) and xxmaj clarence xxmaj doolittle / xxmaj brooklyn ( xxmaj frank xxmaj sinatra ) , get a special four - day shore leave . xxmaj eager to get to the girls , particularly xxmaj joe 's xxmaj lola , neither xxmaj joe nor xxmaj brooklyn figure on the interruption</td>\n",
       "      <td>pos</td>\n",
       "    </tr>\n",
       "  </tbody>\n",
       "</table>"
      ],
      "text/plain": [
       "<IPython.core.display.HTML object>"
      ]
     },
     "metadata": {},
     "output_type": "display_data"
    }
   ],
   "source": [
    "data_clas.show_batch()"
   ]
  },
  {
   "cell_type": "markdown",
   "metadata": {},
   "source": [
    "We can then create a model to classify those reviews and load the encoder we saved before."
   ]
  },
  {
   "cell_type": "code",
   "execution_count": 21,
   "metadata": {},
   "outputs": [
    {
     "data": {
      "text/plain": [
       "RNNLearner(data=TextClasDataBunch;\n",
       "\n",
       "Train: LabelList (25000 items)\n",
       "x: TextList\n",
       "xxbos xxmaj to borrow from xxmaj dorothy xxmaj parker : xxmaj this is not a film to be tossed aside \n",
       " \n",
       "  lightly . xxmaj it should be thrown with great force . \n",
       " \n",
       "  xxmaj this is an excruciating mess . xxmaj and i 'm a xxmaj greenaway fan . \n",
       " \n",
       "  xxup mind - xxup numbingly xxup awful \n",
       " \n",
       "  \" xxmaj the xxmaj mummy xxmaj returns \" has much more artistic merit,xxbos xxmaj first of all , let me say the i am xxup lds or rather , i am a xxmaj mormon . xxmaj so when i watched this film , i automatically gave it the benefit of the doubt . i can usually find something redeeming in every movie i watch . xxmaj and this one was no exception . xxmaj it does have its redeeming moments . xxmaj but they are few and far between . \n",
       " \n",
       "  xxmaj one of the first things i noticed that bothered me very greatly was that it seemed as though xxmaj halestorm was ashamed of our xxmaj church ! xxmaj in the xxup lds xxmaj church , congregations are called \" wards \" and the basketball court is in the \" cultural hall \" . xxup never xxup once are either of these two names mentioned . xxmaj the xxmaj church is never referred to by name and \" the standards \" is as far as it goes in mentioning what our xxmaj church believes . \n",
       " \n",
       "  xxmaj it makes me wonder if the directors are really xxup lds or xxup lds wannabes ? xxmaj this film had so much potential ! xxmaj it could have really shown our xxmaj church in a positive light and helped the public to see not only what we have to offer , but also what we believe . xxmaj instead it was only mildly entertaining and left much to be desired . xxmaj if i were not already xxup lds , i 'd be left thinking xxmaj mormons are stupid , idiotic and ashamed of their beliefs . \n",
       " \n",
       "  xxmaj it is xxup not a film i will recommend to my xxunk friends . \n",
       " \n",
       "  xxmaj sorry xxmaj halestorm . xxmaj you can do better than this !,xxbos xxmaj what the xxrep 11 . is this ? xxmaj this must , without a doubt , be the biggest waste of film , settings and camera ever . i know you ca n't set your expectations for an 80 's slasher high , but this is too stupid to be true . i xxunk this film for xxunk $ and i still feel the urge to go claim my money back . xxmaj can you imagine who hard it xxup stinks ? \n",
       " \n",
       "  xxmaj who is the violent killer in this film and what are his motivations ? ? ? xxmaj well actually , you could n't possible care less . xxmaj and why should you ? xxmaj the makers of this piece of garbage sure did n't care . xxmaj they did n't try to create a tiny bit of tension . xxmaj the director ( xxmaj stephen xxmaj carpenter -- i guess it 's much easier to find money with a name like that ) also made the xxmaj kindred ( 1986 ) wich was rather enjoyable and recently he did xxmaj soul xxmaj survivors . xxmaj complete crap as well , but at least that one had xxmaj eliza xxmaj dushku . xxmaj this junk has the debut of xxmaj daphne xxmaj zuniga ! ! ! ( xxmaj who ? ? ) xxmaj yeah that 's right , the xxmaj melrose xxmaj place chick . xxmaj her very memorable character dies about 15 min . after the opening credits . xxmaj she 's the second person to die . xxmaj the first victim dies directly in the first minute , but nobody seems to mention or miss him afterwards so who cares ? xxmaj the rest of the actors ... they do n't deserve the term actors actually , are completely uninteresting . xxmaj you 're hoping they die a quick and painful death ... and not only their characters \n",
       " \n",
       "  xxmaj my humble opinion = 0 / 10,xxbos i realise that the xxup us xxmaj army was xxunk by 1971 , but this film was unbelievable . xxmaj it was supposed to be a training camp not the xxup ss punishment battalion in a xxmaj sven xxmaj xxunk novel . xxmaj the writer must be a real xxmaj army hater . xxmaj the psycho sergeant who kept beating the crap of people belonged in a prison cell , and the useless xxmaj black top sergeant should have been sacked as well . xxmaj these men were going overseas , the receiving units would surely have wondered where all the unusable damaged recruits were coming from , and an investigation would have ensued . xxmaj the scene that blew it completely was the electrocution one . xxmaj farrell , the alleged barrack room lawyer , would have had the instructor over a barrel for issuing an illegal order ( to torture pows in xxunk to the xxmaj geneva xxmaj convention ) , actual assault on an enlisted man , sexual assault and conduct unbecoming an officer . xxmaj xxunk he just walks away . xxmaj after this , discipline brakes down into a madhouse level and the film becomes unwatchable . i do n't know how it ended , i went to bed .,xxbos xxmaj holy crap ! xxmaj what a terrible , terrible xxmaj spanish thriller ! i 've had it for about four years and finally started it the other night . i watched an hour or so before heading to bed . i was pretty intrigued by the whole thing . i finished it last night and could n't believe where i stopped it the night before . xxmaj literally , i stopped it the second before the movie went completely downhill . \n",
       " \n",
       "  xxmaj like i said , i was pretty intrigued and curious as to where this mystery was going but stopped it right when xxmaj simon receives the package in the bar . i picked up when he opens up the package to reveal a laser gun and then plays a \" menacing \" game of laser tag . xxmaj whew ! xxmaj then the big reveal is that the whole thing is a terrorist plot by role playing game nerds . xxup whew ! xxmaj you can tell the xxmaj spanish industry was definitely behind director xxmaj mateo xxmaj gil ( co - writer of xxmaj amenabar 's two big previous hits ) . xxmaj there is an excellent score and great photography . xxmaj but this scenario reeks of silliness . xxmaj how anyone sat through the last 40 minutes with a straight face is beyond me .\n",
       "y: CategoryList\n",
       "neg,neg,neg,neg,neg\n",
       "Path: /docker_home/.fastai/data/imdb;\n",
       "\n",
       "Valid: LabelList (25000 items)\n",
       "x: TextList\n",
       "xxbos xxmaj this film is a completely inaccurate depiction of the real story of xxmaj noah 's xxmaj ark. xxmaj the producers probably did not even read the xxmaj bible . xxmaj this is the worst movie i have xxup ever seen ! xxmaj noah 's wife was never mentioned by name in the xxmaj bible , but the writers of the film \" gave \" her the name xxmaj xxunk . xxmaj this movie depicts the destruction of xxmaj sodom a good 1000 years before it happened , and what about xxmaj xxunk ? xxmaj it too was destroyed at the same time xxmaj sodom was . ( xxmaj maybe the producers thought that not including xxmaj xxunk in the story and showing the city of \" xxmaj sodom \" as in you - know - what would raise more eyebrows . ) xxmaj this film is utter filth and mocks xxmaj god and the xxmaj bible . xxmaj it is a wonder that any true xxmaj christian would want to participate in the production of this abysmal , hideous , xxunk mockery of the xxmaj bible .,xxbos xxmaj this movie is total dreck . i love xxmaj val xxmaj kilmer and was very surprised earlier this year by \" xxmaj felon \" ( a good movie ! ) . xxmaj the entire xxup dvd box is misleading . xxmaj val xxmaj kilmer while being billed as one of the main people in this film , is in the movie for about 2 minutes . xxmaj even the summary on the back of the xxup dvd is not entirely true . xxmaj this could have been a good movie but the direction was horrible and the plot was about as thin as a sheet of paper . xxmaj usually when a movie is this horrendous you can sit back and laugh at it . xxmaj this film though is so bad and boring i actually fell asleep to it ( which i never do during a movie ) . xxup avoid xxup at xxup all xxup costs !,xxbos xxmaj my wife and i saw every episode in this series and loved it . xxmaj however , the series was cut short without a final episode by the producers of the show . xxmaj it ended with a typical end - the - season cliff hanger leaving it 's fans feeling cheated . a waste of great writing and acting .,xxbos i was in 6th grade and this movie aired on xxup pbs during a series called ' xxmaj wonderworks . ' i distinctly remember sitting on a couch watching the movie with tears running down my face at the end . xxmaj in the film xxmaj jesse , the main character , forms an unusual friendship with a girl named xxmaj leslie . xxmaj due to a very simple , but careless mistake one of the pair dies . xxmaj at the time , i found the story very powerful , because the fatal mistake is exactly the type of mistake a kid would make and so any kid watching the film will find it very easy to identify with and feel the emotional weight of the tragedy that ensues . \n",
       " \n",
       "  xxmaj last year , i finally tracked down a xxup vhs copy of the show . i probably should have stuck with my memories . xxmaj watching the show as an adult i was absolutely shocked by what a horribly made film this was . xxmaj my girlfriend had a similar memory of the movie as well , and she too was pretty sad about how bad the movie was compared to her memories . \n",
       " \n",
       "  xxmaj many adults probably have a good memory of watching this movie when they were kids . i strongly advise that these people leave their memories intact , and avoid seeing this film as an adult .,xxbos xxmaj director xxup j.s. xxmaj cardone presents something a little scary and a little creepy , but nothing more . a widowed mother xxmaj karen xxunk xxmaj xxunk a home in the xxmaj pennsylvania mountains ; so she takes her two daughters and moves into the sprawling estate in what seems the middle of nowhere . xxmaj but it is somewhere , somewhere ninety some odd years ago a tragic mining accident claimed the lives of numerous children who were forced to labor in the dark and dank . xxmaj the area and especially the xxmaj tunny estate seems to be haunted by the spirits of the tiny little wicked souls . xxmaj the legend is the screaming children come out in the moonlight to seek their revenge ; and you better believe it . xxmaj also in the cast : xxmaj ben xxmaj cross , xxmaj scout xxmaj taylor - xxmaj compton , xxmaj chloe xxmaj moretz , xxmaj julie xxmaj rogers and xxmaj geoffrey xxmaj lewis .\n",
       "y: CategoryList\n",
       "neg,neg,neg,neg,neg\n",
       "Path: /docker_home/.fastai/data/imdb;\n",
       "\n",
       "Test: None, model=SequentialRNN(\n",
       "  (0): MultiBatchEncoder(\n",
       "    (module): AWD_LSTM(\n",
       "      (encoder): Embedding(60000, 400, padding_idx=1)\n",
       "      (encoder_dp): EmbeddingDropout(\n",
       "        (emb): Embedding(60000, 400, padding_idx=1)\n",
       "      )\n",
       "      (rnns): ModuleList(\n",
       "        (0): WeightDropout(\n",
       "          (module): LSTM(400, 1152, batch_first=True)\n",
       "        )\n",
       "        (1): WeightDropout(\n",
       "          (module): LSTM(1152, 1152, batch_first=True)\n",
       "        )\n",
       "        (2): WeightDropout(\n",
       "          (module): LSTM(1152, 400, batch_first=True)\n",
       "        )\n",
       "      )\n",
       "      (input_dp): RNNDropout()\n",
       "      (hidden_dps): ModuleList(\n",
       "        (0): RNNDropout()\n",
       "        (1): RNNDropout()\n",
       "        (2): RNNDropout()\n",
       "      )\n",
       "    )\n",
       "  )\n",
       "  (1): PoolingLinearClassifier(\n",
       "    (layers): Sequential(\n",
       "      (0): BatchNorm1d(1200, eps=1e-05, momentum=0.1, affine=True, track_running_stats=True)\n",
       "      (1): Dropout(p=0.2, inplace=False)\n",
       "      (2): Linear(in_features=1200, out_features=50, bias=True)\n",
       "      (3): ReLU(inplace=True)\n",
       "      (4): BatchNorm1d(50, eps=1e-05, momentum=0.1, affine=True, track_running_stats=True)\n",
       "      (5): Dropout(p=0.1, inplace=False)\n",
       "      (6): Linear(in_features=50, out_features=2, bias=True)\n",
       "    )\n",
       "  )\n",
       "), opt_func=functools.partial(<class 'torch.optim.adam.Adam'>, betas=(0.9, 0.99)), loss_func=FlattenedLoss of CrossEntropyLoss(), metrics=[<function accuracy at 0x7fe8b33bb510>], true_wd=True, bn_wd=True, wd=0.01, train_bn=True, path=PosixPath('/docker_home/.fastai/data/imdb'), model_dir='models', callback_fns=[functools.partial(<class 'fastai.basic_train.Recorder'>, add_time=True, silent=False)], callbacks=[RNNTrainer\n",
       "learn: RNNLearner(data=TextClasDataBunch;\n",
       "\n",
       "Train: LabelList (25000 items)\n",
       "x: TextList\n",
       "xxbos xxmaj to borrow from xxmaj dorothy xxmaj parker : xxmaj this is not a film to be tossed aside \n",
       " \n",
       "  lightly . xxmaj it should be thrown with great force . \n",
       " \n",
       "  xxmaj this is an excruciating mess . xxmaj and i 'm a xxmaj greenaway fan . \n",
       " \n",
       "  xxup mind - xxup numbingly xxup awful \n",
       " \n",
       "  \" xxmaj the xxmaj mummy xxmaj returns \" has much more artistic merit,xxbos xxmaj first of all , let me say the i am xxup lds or rather , i am a xxmaj mormon . xxmaj so when i watched this film , i automatically gave it the benefit of the doubt . i can usually find something redeeming in every movie i watch . xxmaj and this one was no exception . xxmaj it does have its redeeming moments . xxmaj but they are few and far between . \n",
       " \n",
       "  xxmaj one of the first things i noticed that bothered me very greatly was that it seemed as though xxmaj halestorm was ashamed of our xxmaj church ! xxmaj in the xxup lds xxmaj church , congregations are called \" wards \" and the basketball court is in the \" cultural hall \" . xxup never xxup once are either of these two names mentioned . xxmaj the xxmaj church is never referred to by name and \" the standards \" is as far as it goes in mentioning what our xxmaj church believes . \n",
       " \n",
       "  xxmaj it makes me wonder if the directors are really xxup lds or xxup lds wannabes ? xxmaj this film had so much potential ! xxmaj it could have really shown our xxmaj church in a positive light and helped the public to see not only what we have to offer , but also what we believe . xxmaj instead it was only mildly entertaining and left much to be desired . xxmaj if i were not already xxup lds , i 'd be left thinking xxmaj mormons are stupid , idiotic and ashamed of their beliefs . \n",
       " \n",
       "  xxmaj it is xxup not a film i will recommend to my xxunk friends . \n",
       " \n",
       "  xxmaj sorry xxmaj halestorm . xxmaj you can do better than this !,xxbos xxmaj what the xxrep 11 . is this ? xxmaj this must , without a doubt , be the biggest waste of film , settings and camera ever . i know you ca n't set your expectations for an 80 's slasher high , but this is too stupid to be true . i xxunk this film for xxunk $ and i still feel the urge to go claim my money back . xxmaj can you imagine who hard it xxup stinks ? \n",
       " \n",
       "  xxmaj who is the violent killer in this film and what are his motivations ? ? ? xxmaj well actually , you could n't possible care less . xxmaj and why should you ? xxmaj the makers of this piece of garbage sure did n't care . xxmaj they did n't try to create a tiny bit of tension . xxmaj the director ( xxmaj stephen xxmaj carpenter -- i guess it 's much easier to find money with a name like that ) also made the xxmaj kindred ( 1986 ) wich was rather enjoyable and recently he did xxmaj soul xxmaj survivors . xxmaj complete crap as well , but at least that one had xxmaj eliza xxmaj dushku . xxmaj this junk has the debut of xxmaj daphne xxmaj zuniga ! ! ! ( xxmaj who ? ? ) xxmaj yeah that 's right , the xxmaj melrose xxmaj place chick . xxmaj her very memorable character dies about 15 min . after the opening credits . xxmaj she 's the second person to die . xxmaj the first victim dies directly in the first minute , but nobody seems to mention or miss him afterwards so who cares ? xxmaj the rest of the actors ... they do n't deserve the term actors actually , are completely uninteresting . xxmaj you 're hoping they die a quick and painful death ... and not only their characters \n",
       " \n",
       "  xxmaj my humble opinion = 0 / 10,xxbos i realise that the xxup us xxmaj army was xxunk by 1971 , but this film was unbelievable . xxmaj it was supposed to be a training camp not the xxup ss punishment battalion in a xxmaj sven xxmaj xxunk novel . xxmaj the writer must be a real xxmaj army hater . xxmaj the psycho sergeant who kept beating the crap of people belonged in a prison cell , and the useless xxmaj black top sergeant should have been sacked as well . xxmaj these men were going overseas , the receiving units would surely have wondered where all the unusable damaged recruits were coming from , and an investigation would have ensued . xxmaj the scene that blew it completely was the electrocution one . xxmaj farrell , the alleged barrack room lawyer , would have had the instructor over a barrel for issuing an illegal order ( to torture pows in xxunk to the xxmaj geneva xxmaj convention ) , actual assault on an enlisted man , sexual assault and conduct unbecoming an officer . xxmaj xxunk he just walks away . xxmaj after this , discipline brakes down into a madhouse level and the film becomes unwatchable . i do n't know how it ended , i went to bed .,xxbos xxmaj holy crap ! xxmaj what a terrible , terrible xxmaj spanish thriller ! i 've had it for about four years and finally started it the other night . i watched an hour or so before heading to bed . i was pretty intrigued by the whole thing . i finished it last night and could n't believe where i stopped it the night before . xxmaj literally , i stopped it the second before the movie went completely downhill . \n",
       " \n",
       "  xxmaj like i said , i was pretty intrigued and curious as to where this mystery was going but stopped it right when xxmaj simon receives the package in the bar . i picked up when he opens up the package to reveal a laser gun and then plays a \" menacing \" game of laser tag . xxmaj whew ! xxmaj then the big reveal is that the whole thing is a terrorist plot by role playing game nerds . xxup whew ! xxmaj you can tell the xxmaj spanish industry was definitely behind director xxmaj mateo xxmaj gil ( co - writer of xxmaj amenabar 's two big previous hits ) . xxmaj there is an excellent score and great photography . xxmaj but this scenario reeks of silliness . xxmaj how anyone sat through the last 40 minutes with a straight face is beyond me .\n",
       "y: CategoryList\n",
       "neg,neg,neg,neg,neg\n",
       "Path: /docker_home/.fastai/data/imdb;\n",
       "\n",
       "Valid: LabelList (25000 items)\n",
       "x: TextList\n",
       "xxbos xxmaj this film is a completely inaccurate depiction of the real story of xxmaj noah 's xxmaj ark. xxmaj the producers probably did not even read the xxmaj bible . xxmaj this is the worst movie i have xxup ever seen ! xxmaj noah 's wife was never mentioned by name in the xxmaj bible , but the writers of the film \" gave \" her the name xxmaj xxunk . xxmaj this movie depicts the destruction of xxmaj sodom a good 1000 years before it happened , and what about xxmaj xxunk ? xxmaj it too was destroyed at the same time xxmaj sodom was . ( xxmaj maybe the producers thought that not including xxmaj xxunk in the story and showing the city of \" xxmaj sodom \" as in you - know - what would raise more eyebrows . ) xxmaj this film is utter filth and mocks xxmaj god and the xxmaj bible . xxmaj it is a wonder that any true xxmaj christian would want to participate in the production of this abysmal , hideous , xxunk mockery of the xxmaj bible .,xxbos xxmaj this movie is total dreck . i love xxmaj val xxmaj kilmer and was very surprised earlier this year by \" xxmaj felon \" ( a good movie ! ) . xxmaj the entire xxup dvd box is misleading . xxmaj val xxmaj kilmer while being billed as one of the main people in this film , is in the movie for about 2 minutes . xxmaj even the summary on the back of the xxup dvd is not entirely true . xxmaj this could have been a good movie but the direction was horrible and the plot was about as thin as a sheet of paper . xxmaj usually when a movie is this horrendous you can sit back and laugh at it . xxmaj this film though is so bad and boring i actually fell asleep to it ( which i never do during a movie ) . xxup avoid xxup at xxup all xxup costs !,xxbos xxmaj my wife and i saw every episode in this series and loved it . xxmaj however , the series was cut short without a final episode by the producers of the show . xxmaj it ended with a typical end - the - season cliff hanger leaving it 's fans feeling cheated . a waste of great writing and acting .,xxbos i was in 6th grade and this movie aired on xxup pbs during a series called ' xxmaj wonderworks . ' i distinctly remember sitting on a couch watching the movie with tears running down my face at the end . xxmaj in the film xxmaj jesse , the main character , forms an unusual friendship with a girl named xxmaj leslie . xxmaj due to a very simple , but careless mistake one of the pair dies . xxmaj at the time , i found the story very powerful , because the fatal mistake is exactly the type of mistake a kid would make and so any kid watching the film will find it very easy to identify with and feel the emotional weight of the tragedy that ensues . \n",
       " \n",
       "  xxmaj last year , i finally tracked down a xxup vhs copy of the show . i probably should have stuck with my memories . xxmaj watching the show as an adult i was absolutely shocked by what a horribly made film this was . xxmaj my girlfriend had a similar memory of the movie as well , and she too was pretty sad about how bad the movie was compared to her memories . \n",
       " \n",
       "  xxmaj many adults probably have a good memory of watching this movie when they were kids . i strongly advise that these people leave their memories intact , and avoid seeing this film as an adult .,xxbos xxmaj director xxup j.s. xxmaj cardone presents something a little scary and a little creepy , but nothing more . a widowed mother xxmaj karen xxunk xxmaj xxunk a home in the xxmaj pennsylvania mountains ; so she takes her two daughters and moves into the sprawling estate in what seems the middle of nowhere . xxmaj but it is somewhere , somewhere ninety some odd years ago a tragic mining accident claimed the lives of numerous children who were forced to labor in the dark and dank . xxmaj the area and especially the xxmaj tunny estate seems to be haunted by the spirits of the tiny little wicked souls . xxmaj the legend is the screaming children come out in the moonlight to seek their revenge ; and you better believe it . xxmaj also in the cast : xxmaj ben xxmaj cross , xxmaj scout xxmaj taylor - xxmaj compton , xxmaj chloe xxmaj moretz , xxmaj julie xxmaj rogers and xxmaj geoffrey xxmaj lewis .\n",
       "y: CategoryList\n",
       "neg,neg,neg,neg,neg\n",
       "Path: /docker_home/.fastai/data/imdb;\n",
       "\n",
       "Test: None, model=SequentialRNN(\n",
       "  (0): MultiBatchEncoder(\n",
       "    (module): AWD_LSTM(\n",
       "      (encoder): Embedding(60000, 400, padding_idx=1)\n",
       "      (encoder_dp): EmbeddingDropout(\n",
       "        (emb): Embedding(60000, 400, padding_idx=1)\n",
       "      )\n",
       "      (rnns): ModuleList(\n",
       "        (0): WeightDropout(\n",
       "          (module): LSTM(400, 1152, batch_first=True)\n",
       "        )\n",
       "        (1): WeightDropout(\n",
       "          (module): LSTM(1152, 1152, batch_first=True)\n",
       "        )\n",
       "        (2): WeightDropout(\n",
       "          (module): LSTM(1152, 400, batch_first=True)\n",
       "        )\n",
       "      )\n",
       "      (input_dp): RNNDropout()\n",
       "      (hidden_dps): ModuleList(\n",
       "        (0): RNNDropout()\n",
       "        (1): RNNDropout()\n",
       "        (2): RNNDropout()\n",
       "      )\n",
       "    )\n",
       "  )\n",
       "  (1): PoolingLinearClassifier(\n",
       "    (layers): Sequential(\n",
       "      (0): BatchNorm1d(1200, eps=1e-05, momentum=0.1, affine=True, track_running_stats=True)\n",
       "      (1): Dropout(p=0.2, inplace=False)\n",
       "      (2): Linear(in_features=1200, out_features=50, bias=True)\n",
       "      (3): ReLU(inplace=True)\n",
       "      (4): BatchNorm1d(50, eps=1e-05, momentum=0.1, affine=True, track_running_stats=True)\n",
       "      (5): Dropout(p=0.1, inplace=False)\n",
       "      (6): Linear(in_features=50, out_features=2, bias=True)\n",
       "    )\n",
       "  )\n",
       "), opt_func=functools.partial(<class 'torch.optim.adam.Adam'>, betas=(0.9, 0.99)), loss_func=FlattenedLoss of CrossEntropyLoss(), metrics=[<function accuracy at 0x7fe8b33bb510>], true_wd=True, bn_wd=True, wd=0.01, train_bn=True, path=PosixPath('/docker_home/.fastai/data/imdb'), model_dir='models', callback_fns=[functools.partial(<class 'fastai.basic_train.Recorder'>, add_time=True, silent=False)], callbacks=[...], layer_groups=[Sequential(\n",
       "  (0): Embedding(60000, 400, padding_idx=1)\n",
       "  (1): EmbeddingDropout(\n",
       "    (emb): Embedding(60000, 400, padding_idx=1)\n",
       "  )\n",
       "), Sequential(\n",
       "  (0): WeightDropout(\n",
       "    (module): LSTM(400, 1152, batch_first=True)\n",
       "  )\n",
       "  (1): RNNDropout()\n",
       "), Sequential(\n",
       "  (0): WeightDropout(\n",
       "    (module): LSTM(1152, 1152, batch_first=True)\n",
       "  )\n",
       "  (1): RNNDropout()\n",
       "), Sequential(\n",
       "  (0): WeightDropout(\n",
       "    (module): LSTM(1152, 400, batch_first=True)\n",
       "  )\n",
       "  (1): RNNDropout()\n",
       "), Sequential(\n",
       "  (0): PoolingLinearClassifier(\n",
       "    (layers): Sequential(\n",
       "      (0): BatchNorm1d(1200, eps=1e-05, momentum=0.1, affine=True, track_running_stats=True)\n",
       "      (1): Dropout(p=0.2, inplace=False)\n",
       "      (2): Linear(in_features=1200, out_features=50, bias=True)\n",
       "      (3): ReLU(inplace=True)\n",
       "      (4): BatchNorm1d(50, eps=1e-05, momentum=0.1, affine=True, track_running_stats=True)\n",
       "      (5): Dropout(p=0.1, inplace=False)\n",
       "      (6): Linear(in_features=50, out_features=2, bias=True)\n",
       "    )\n",
       "  )\n",
       ")], add_time=True, silent=False)\n",
       "alpha: 2.0\n",
       "beta: 1.0], layer_groups=[Sequential(\n",
       "  (0): Embedding(60000, 400, padding_idx=1)\n",
       "  (1): EmbeddingDropout(\n",
       "    (emb): Embedding(60000, 400, padding_idx=1)\n",
       "  )\n",
       "), Sequential(\n",
       "  (0): WeightDropout(\n",
       "    (module): LSTM(400, 1152, batch_first=True)\n",
       "  )\n",
       "  (1): RNNDropout()\n",
       "), Sequential(\n",
       "  (0): WeightDropout(\n",
       "    (module): LSTM(1152, 1152, batch_first=True)\n",
       "  )\n",
       "  (1): RNNDropout()\n",
       "), Sequential(\n",
       "  (0): WeightDropout(\n",
       "    (module): LSTM(1152, 400, batch_first=True)\n",
       "  )\n",
       "  (1): RNNDropout()\n",
       "), Sequential(\n",
       "  (0): PoolingLinearClassifier(\n",
       "    (layers): Sequential(\n",
       "      (0): BatchNorm1d(1200, eps=1e-05, momentum=0.1, affine=True, track_running_stats=True)\n",
       "      (1): Dropout(p=0.2, inplace=False)\n",
       "      (2): Linear(in_features=1200, out_features=50, bias=True)\n",
       "      (3): ReLU(inplace=True)\n",
       "      (4): BatchNorm1d(50, eps=1e-05, momentum=0.1, affine=True, track_running_stats=True)\n",
       "      (5): Dropout(p=0.1, inplace=False)\n",
       "      (6): Linear(in_features=50, out_features=2, bias=True)\n",
       "    )\n",
       "  )\n",
       ")], add_time=True, silent=False)"
      ]
     },
     "execution_count": 21,
     "metadata": {},
     "output_type": "execute_result"
    }
   ],
   "source": [
    "learn = text_classifier_learner(data_clas, AWD_LSTM, drop_mult=0.5)\n",
    "learn.load_encoder('fine_tuned_enc')"
   ]
  },
  {
   "cell_type": "code",
   "execution_count": 22,
   "metadata": {},
   "outputs": [
    {
     "data": {
      "text/html": [
       "\n",
       "    <div>\n",
       "        <style>\n",
       "            /* Turns off some styling */\n",
       "            progress {\n",
       "                /* gets rid of default border in Firefox and Opera. */\n",
       "                border: none;\n",
       "                /* Needs to be in here for Safari polyfill so background images work as expected. */\n",
       "                background-size: auto;\n",
       "            }\n",
       "            .progress-bar-interrupted, .progress-bar-interrupted::-webkit-progress-bar {\n",
       "                background: #F44336;\n",
       "            }\n",
       "        </style>\n",
       "      <progress value='0' class='' max='1' style='width:300px; height:20px; vertical-align: middle;'></progress>\n",
       "      0.00% [0/1 00:00<00:00]\n",
       "    </div>\n",
       "    \n",
       "<table border=\"1\" class=\"dataframe\">\n",
       "  <thead>\n",
       "    <tr style=\"text-align: left;\">\n",
       "      <th>epoch</th>\n",
       "      <th>train_loss</th>\n",
       "      <th>valid_loss</th>\n",
       "      <th>accuracy</th>\n",
       "      <th>time</th>\n",
       "    </tr>\n",
       "  </thead>\n",
       "  <tbody>\n",
       "  </tbody>\n",
       "</table><p>\n",
       "\n",
       "    <div>\n",
       "        <style>\n",
       "            /* Turns off some styling */\n",
       "            progress {\n",
       "                /* gets rid of default border in Firefox and Opera. */\n",
       "                border: none;\n",
       "                /* Needs to be in here for Safari polyfill so background images work as expected. */\n",
       "                background-size: auto;\n",
       "            }\n",
       "            .progress-bar-interrupted, .progress-bar-interrupted::-webkit-progress-bar {\n",
       "                background: #F44336;\n",
       "            }\n",
       "        </style>\n",
       "      <progress value='94' class='' max='520' style='width:300px; height:20px; vertical-align: middle;'></progress>\n",
       "      18.08% [94/520 00:14<01:04 1.7347]\n",
       "    </div>\n",
       "    "
      ],
      "text/plain": [
       "<IPython.core.display.HTML object>"
      ]
     },
     "metadata": {},
     "output_type": "display_data"
    },
    {
     "name": "stdout",
     "output_type": "stream",
     "text": [
      "LR Finder is complete, type {learner_name}.recorder.plot() to see the graph.\n"
     ]
    }
   ],
   "source": [
    "learn.lr_find()"
   ]
  },
  {
   "cell_type": "code",
   "execution_count": 41,
   "metadata": {},
   "outputs": [
    {
     "data": {
      "image/png": "[encoded data removed]",
      "text/plain": [
       "<Figure size 432x288 with 1 Axes>"
      ]
     },
     "metadata": {
      "needs_background": "light"
     },
     "output_type": "display_data"
    }
   ],
   "source": [
    "learn.recorder.plot()"
   ]
  },
  {
   "cell_type": "code",
   "execution_count": 42,
   "metadata": {},
   "outputs": [
    {
     "data": {
      "text/html": [
       "<table border=\"1\" class=\"dataframe\">\n",
       "  <thead>\n",
       "    <tr style=\"text-align: left;\">\n",
       "      <th>epoch</th>\n",
       "      <th>train_loss</th>\n",
       "      <th>valid_loss</th>\n",
       "      <th>accuracy</th>\n",
       "      <th>time</th>\n",
       "    </tr>\n",
       "  </thead>\n",
       "  <tbody>\n",
       "    <tr>\n",
       "      <td>0</td>\n",
       "      <td>0.251236</td>\n",
       "      <td>0.178008</td>\n",
       "      <td>0.932960</td>\n",
       "      <td>02:08</td>\n",
       "    </tr>\n",
       "  </tbody>\n",
       "</table>"
      ],
      "text/plain": [
       "<IPython.core.display.HTML object>"
      ]
     },
     "metadata": {},
     "output_type": "display_data"
    }
   ],
   "source": [
    "learn.fit_one_cycle(1, 2e-2, moms=(0.8,0.7))"
   ]
  },
  {
   "cell_type": "code",
   "execution_count": 43,
   "metadata": {},
   "outputs": [],
   "source": [
    "learn.save('first')"
   ]
  },
  {
   "cell_type": "code",
   "execution_count": 44,
   "metadata": {},
   "outputs": [],
   "source": [
    "learn.load('first');"
   ]
  },
  {
   "cell_type": "code",
   "execution_count": 45,
   "metadata": {},
   "outputs": [
    {
     "data": {
      "text/html": [
       "<table border=\"1\" class=\"dataframe\">\n",
       "  <thead>\n",
       "    <tr style=\"text-align: left;\">\n",
       "      <th>epoch</th>\n",
       "      <th>train_loss</th>\n",
       "      <th>valid_loss</th>\n",
       "      <th>accuracy</th>\n",
       "      <th>time</th>\n",
       "    </tr>\n",
       "  </thead>\n",
       "  <tbody>\n",
       "    <tr>\n",
       "      <td>0</td>\n",
       "      <td>0.238785</td>\n",
       "      <td>0.160605</td>\n",
       "      <td>0.940160</td>\n",
       "      <td>02:22</td>\n",
       "    </tr>\n",
       "  </tbody>\n",
       "</table>"
      ],
      "text/plain": [
       "<IPython.core.display.HTML object>"
      ]
     },
     "metadata": {},
     "output_type": "display_data"
    }
   ],
   "source": [
    "learn.freeze_to(-2)\n",
    "learn.fit_one_cycle(1, slice(1e-2/(2.6**4),1e-2), moms=(0.8,0.7))"
   ]
  },
  {
   "cell_type": "code",
   "execution_count": 46,
   "metadata": {},
   "outputs": [],
   "source": [
    "learn.save('second')"
   ]
  },
  {
   "cell_type": "code",
   "execution_count": 47,
   "metadata": {},
   "outputs": [],
   "source": [
    "learn.load('second');"
   ]
  },
  {
   "cell_type": "code",
   "execution_count": 48,
   "metadata": {},
   "outputs": [
    {
     "data": {
      "text/html": [
       "<table border=\"1\" class=\"dataframe\">\n",
       "  <thead>\n",
       "    <tr style=\"text-align: left;\">\n",
       "      <th>epoch</th>\n",
       "      <th>train_loss</th>\n",
       "      <th>valid_loss</th>\n",
       "      <th>accuracy</th>\n",
       "      <th>time</th>\n",
       "    </tr>\n",
       "  </thead>\n",
       "  <tbody>\n",
       "    <tr>\n",
       "      <td>0</td>\n",
       "      <td>0.194009</td>\n",
       "      <td>0.143913</td>\n",
       "      <td>0.947160</td>\n",
       "      <td>03:38</td>\n",
       "    </tr>\n",
       "  </tbody>\n",
       "</table>"
      ],
      "text/plain": [
       "<IPython.core.display.HTML object>"
      ]
     },
     "metadata": {},
     "output_type": "display_data"
    }
   ],
   "source": [
    "learn.freeze_to(-3)\n",
    "learn.fit_one_cycle(1, slice(5e-3/(2.6**4),5e-3), moms=(0.8,0.7))"
   ]
  },
  {
   "cell_type": "code",
   "execution_count": 49,
   "metadata": {},
   "outputs": [],
   "source": [
    "learn.save('third')"
   ]
  },
  {
   "cell_type": "markdown",
   "metadata": {},
   "source": [
    "May need to restart kernel"
   ]
  },
  {
   "cell_type": "code",
   "execution_count": null,
   "metadata": {},
   "outputs": [],
   "source": [
    "from fastai.text import *\n",
    "bs = 16 \n",
    "path = untar_data(URLs.IMDB)\n",
    "data_clas = load_data(path, 'data_clas.pkl', bs=bs)\n",
    "learn = text_classifier_learner(data_clas, AWD_LSTM, drop_mult=0.5)\n",
    "learn.load_encoder('fine_tuned_enc')"
   ]
  },
  {
   "cell_type": "code",
   "execution_count": 9,
   "metadata": {},
   "outputs": [],
   "source": [
    "learn.load('third');"
   ]
  },
  {
   "cell_type": "code",
   "execution_count": 10,
   "metadata": {},
   "outputs": [
    {
     "data": {
      "text/html": [
       "<table border=\"1\" class=\"dataframe\">\n",
       "  <thead>\n",
       "    <tr style=\"text-align: left;\">\n",
       "      <th>epoch</th>\n",
       "      <th>train_loss</th>\n",
       "      <th>valid_loss</th>\n",
       "      <th>accuracy</th>\n",
       "      <th>time</th>\n",
       "    </tr>\n",
       "  </thead>\n",
       "  <tbody>\n",
       "    <tr>\n",
       "      <td>0</td>\n",
       "      <td>0.418453</td>\n",
       "      <td>0.338734</td>\n",
       "      <td>0.853560</td>\n",
       "      <td>08:45</td>\n",
       "    </tr>\n",
       "    <tr>\n",
       "      <td>1</td>\n",
       "      <td>0.377214</td>\n",
       "      <td>0.315051</td>\n",
       "      <td>0.868120</td>\n",
       "      <td>09:05</td>\n",
       "    </tr>\n",
       "  </tbody>\n",
       "</table>"
      ],
      "text/plain": [
       "<IPython.core.display.HTML object>"
      ]
     },
     "metadata": {},
     "output_type": "display_data"
    }
   ],
   "source": [
    "learn.unfreeze()\n",
    "learn.fit_one_cycle(2, slice(1e-3/(2.6**4),1e-3), moms=(0.8,0.7))"
   ]
  },
  {
   "cell_type": "code",
   "execution_count": 11,
   "metadata": {},
   "outputs": [
    {
     "data": {
      "text/plain": [
       "(Category tensor(1), tensor(1), tensor([0.1642, 0.8358]))"
      ]
     },
     "execution_count": 11,
     "metadata": {},
     "output_type": "execute_result"
    }
   ],
   "source": [
    "learn.predict(\"I really loved that movie, it was awesome!\")"
   ]
  },
  {
   "cell_type": "code",
   "execution_count": null,
   "metadata": {},
   "outputs": [],
   "source": []
  }
 ],
 "metadata": {
  "kernelspec": {
   "display_name": "Python 3",
   "language": "python",
   "name": "python3"
  },
  "language_info": {
   "codemirror_mode": {
    "name": "ipython",
    "version": 3
   },
   "file_extension": ".py",
   "mimetype": "text/x-python",
   "name": "python",
   "nbconvert_exporter": "python",
   "pygments_lexer": "ipython3",
   "version": "3.6.9"
  }
 },
 "nbformat": 4,
 "nbformat_minor": 4
}
